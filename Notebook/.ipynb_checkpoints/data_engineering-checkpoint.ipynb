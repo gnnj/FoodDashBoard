{
 "cells": [
  {
   "cell_type": "code",
   "execution_count": 1,
   "metadata": {
    "collapsed": true
   },
   "outputs": [],
   "source": [
    "#Imports\n",
    "import pandas as pd\n",
    "from datetime import datetime\n",
    "import csv\n",
    "\n",
    "#Sqlalchemy imports\n",
    "from sqlalchemy import Column, Float, Integer, String, DateTime\n",
    "from sqlalchemy.ext.declarative import declarative_base\n",
    "from sqlalchemy.ext.automap import automap_base\n",
    "from sqlalchemy.orm import Session\n",
    "from sqlalchemy import create_engine,inspect,func\n",
    "# Flask imports\n",
    "from flask import Flask, jsonify, render_template"
   ]
  },
  {
   "cell_type": "code",
   "execution_count": 2,
   "metadata": {
    "collapsed": true
   },
   "outputs": [],
   "source": [
    "#######Reimport csv, examine, and reoutput to sqlite#######\n",
    "#CSV import\n",
    "clean_no_index = \"../CleanData/clean_no_index.csv\"\n",
    "clean_no_index_df = pd.read_csv(clean_no_index,encoding='latin-1')"
   ]
  },
  {
   "cell_type": "code",
   "execution_count": 3,
   "metadata": {},
   "outputs": [
    {
     "name": "stdout",
     "output_type": "stream",
     "text": [
      "clean_testcolumn information: \n",
      "\n",
      "Index(['restaurant_name', 'address', 'city', 'state', 'zip_code', 'phone',\n",
      "       'cuisine_type', 'rating', 'price', 'latitude', 'longitude'],\n",
      "      dtype='object') restaurant_name     object\n",
      "address             object\n",
      "city                object\n",
      "state               object\n",
      "zip_code            object\n",
      "phone              float64\n",
      "cuisine_type        object\n",
      "rating             float64\n",
      "price               object\n",
      "latitude           float64\n",
      "longitude          float64\n",
      "dtype: object\n"
     ]
    }
   ],
   "source": [
    "#Data structure overview\n",
    "print(\"clean_testcolumn information: \\n\")\n",
    "print(clean_no_index_df.columns,clean_no_index_df.dtypes) "
   ]
  },
  {
   "cell_type": "code",
   "execution_count": 4,
   "metadata": {},
   "outputs": [
    {
     "data": {
      "text/html": [
       "<div>\n",
       "<style>\n",
       "    .dataframe thead tr:only-child th {\n",
       "        text-align: right;\n",
       "    }\n",
       "\n",
       "    .dataframe thead th {\n",
       "        text-align: left;\n",
       "    }\n",
       "\n",
       "    .dataframe tbody tr th {\n",
       "        vertical-align: top;\n",
       "    }\n",
       "</style>\n",
       "<table border=\"1\" class=\"dataframe\">\n",
       "  <thead>\n",
       "    <tr style=\"text-align: right;\">\n",
       "      <th></th>\n",
       "      <th>restaurant_name</th>\n",
       "      <th>address</th>\n",
       "      <th>city</th>\n",
       "      <th>state</th>\n",
       "      <th>zip_code</th>\n",
       "      <th>phone</th>\n",
       "      <th>cuisine_type</th>\n",
       "      <th>rating</th>\n",
       "      <th>price</th>\n",
       "      <th>latitude</th>\n",
       "      <th>longitude</th>\n",
       "    </tr>\n",
       "  </thead>\n",
       "  <tbody>\n",
       "    <tr>\n",
       "      <th>0</th>\n",
       "      <td>Blue Collar</td>\n",
       "      <td>6730 Biscayne Blvd</td>\n",
       "      <td>Miami</td>\n",
       "      <td>FL</td>\n",
       "      <td>33138</td>\n",
       "      <td>1.305756e+10</td>\n",
       "      <td>American (Traditional)</td>\n",
       "      <td>4.0</td>\n",
       "      <td>$$</td>\n",
       "      <td>26.079674</td>\n",
       "      <td>-80.252222</td>\n",
       "    </tr>\n",
       "    <tr>\n",
       "      <th>1</th>\n",
       "      <td>Atlantic No 5</td>\n",
       "      <td>605 W Main St</td>\n",
       "      <td>Louisville</td>\n",
       "      <td>KY</td>\n",
       "      <td>40202</td>\n",
       "      <td>1.502883e+10</td>\n",
       "      <td>Breakfast &amp; Brunch</td>\n",
       "      <td>4.0</td>\n",
       "      <td>$$</td>\n",
       "      <td>25.750963</td>\n",
       "      <td>-80.258375</td>\n",
       "    </tr>\n",
       "    <tr>\n",
       "      <th>2</th>\n",
       "      <td>Famous Dave's</td>\n",
       "      <td>17770 Southcenter Pkwy</td>\n",
       "      <td>Tukwila</td>\n",
       "      <td>WA</td>\n",
       "      <td>98188</td>\n",
       "      <td>1.206631e+10</td>\n",
       "      <td>Barbeque</td>\n",
       "      <td>3.0</td>\n",
       "      <td>$$</td>\n",
       "      <td>34.028292</td>\n",
       "      <td>-81.093276</td>\n",
       "    </tr>\n",
       "    <tr>\n",
       "      <th>3</th>\n",
       "      <td>Quiznos</td>\n",
       "      <td>1595 N Peach Ave</td>\n",
       "      <td>Fresno</td>\n",
       "      <td>CA</td>\n",
       "      <td>93727</td>\n",
       "      <td>1.559455e+10</td>\n",
       "      <td>Fast Food</td>\n",
       "      <td>3.0</td>\n",
       "      <td>$</td>\n",
       "      <td>44.939642</td>\n",
       "      <td>-93.136030</td>\n",
       "    </tr>\n",
       "    <tr>\n",
       "      <th>4</th>\n",
       "      <td>Hobbit Cafe</td>\n",
       "      <td>2243 Richmond Ave</td>\n",
       "      <td>Houston</td>\n",
       "      <td>TX</td>\n",
       "      <td>77098</td>\n",
       "      <td>1.713527e+10</td>\n",
       "      <td>Breakfast &amp; Brunch</td>\n",
       "      <td>3.5</td>\n",
       "      <td>$$</td>\n",
       "      <td>40.115749</td>\n",
       "      <td>-83.089461</td>\n",
       "    </tr>\n",
       "  </tbody>\n",
       "</table>\n",
       "</div>"
      ],
      "text/plain": [
       "  restaurant_name                 address        city state zip_code  \\\n",
       "0     Blue Collar      6730 Biscayne Blvd       Miami    FL    33138   \n",
       "1   Atlantic No 5           605 W Main St  Louisville    KY    40202   \n",
       "2   Famous Dave's  17770 Southcenter Pkwy     Tukwila    WA    98188   \n",
       "3         Quiznos        1595 N Peach Ave      Fresno    CA    93727   \n",
       "4     Hobbit Cafe       2243 Richmond Ave     Houston    TX    77098   \n",
       "\n",
       "          phone            cuisine_type  rating price   latitude  longitude  \n",
       "0  1.305756e+10  American (Traditional)     4.0    $$  26.079674 -80.252222  \n",
       "1  1.502883e+10      Breakfast & Brunch     4.0    $$  25.750963 -80.258375  \n",
       "2  1.206631e+10                Barbeque     3.0    $$  34.028292 -81.093276  \n",
       "3  1.559455e+10               Fast Food     3.0     $  44.939642 -93.136030  \n",
       "4  1.713527e+10      Breakfast & Brunch     3.5    $$  40.115749 -83.089461  "
      ]
     },
     "execution_count": 4,
     "metadata": {},
     "output_type": "execute_result"
    }
   ],
   "source": [
    "#Examine header\n",
    "clean_no_index_df.head()"
   ]
  },
  {
   "cell_type": "code",
   "execution_count": 5,
   "metadata": {},
   "outputs": [
    {
     "name": "stdout",
     "output_type": "stream",
     "text": [
      "None\n"
     ]
    }
   ],
   "source": [
    "print(clean_no_index_df.index.name)"
   ]
  },
  {
   "cell_type": "code",
   "execution_count": 6,
   "metadata": {
    "collapsed": true,
    "scrolled": true
   },
   "outputs": [],
   "source": [
    "clean_no_index_df['id']=clean_no_index_df.index\n",
    "clean_no_index_df = clean_no_index_df.reset_index(drop=True)"
   ]
  },
  {
   "cell_type": "code",
   "execution_count": 7,
   "metadata": {
    "scrolled": true
   },
   "outputs": [
    {
     "name": "stdout",
     "output_type": "stream",
     "text": [
      "Index(['restaurant_name', 'address', 'city', 'state', 'zip_code', 'phone',\n",
      "       'cuisine_type', 'rating', 'price', 'latitude', 'longitude', 'id'],\n",
      "      dtype='object') restaurant_name     object\n",
      "address             object\n",
      "city                object\n",
      "state               object\n",
      "zip_code            object\n",
      "phone              float64\n",
      "cuisine_type        object\n",
      "rating             float64\n",
      "price               object\n",
      "latitude           float64\n",
      "longitude          float64\n",
      "id                   int64\n",
      "dtype: object\n"
     ]
    }
   ],
   "source": [
    "print(clean_no_index_df.columns,clean_no_index_df.dtypes) "
   ]
  },
  {
   "cell_type": "code",
   "execution_count": null,
   "metadata": {
    "collapsed": true
   },
   "outputs": [],
   "source": [
    "\n"
   ]
  },
  {
   "cell_type": "code",
   "execution_count": 8,
   "metadata": {},
   "outputs": [
    {
     "data": {
      "text/html": [
       "<div>\n",
       "<style>\n",
       "    .dataframe thead tr:only-child th {\n",
       "        text-align: right;\n",
       "    }\n",
       "\n",
       "    .dataframe thead th {\n",
       "        text-align: left;\n",
       "    }\n",
       "\n",
       "    .dataframe tbody tr th {\n",
       "        vertical-align: top;\n",
       "    }\n",
       "</style>\n",
       "<table border=\"1\" class=\"dataframe\">\n",
       "  <thead>\n",
       "    <tr style=\"text-align: right;\">\n",
       "      <th></th>\n",
       "      <th>restaurant_name</th>\n",
       "      <th>address</th>\n",
       "      <th>city</th>\n",
       "      <th>state</th>\n",
       "      <th>zip_code</th>\n",
       "      <th>phone</th>\n",
       "      <th>cuisine_type</th>\n",
       "      <th>rating</th>\n",
       "      <th>price</th>\n",
       "      <th>latitude</th>\n",
       "      <th>longitude</th>\n",
       "      <th>id</th>\n",
       "    </tr>\n",
       "  </thead>\n",
       "  <tbody>\n",
       "    <tr>\n",
       "      <th>0</th>\n",
       "      <td>Blue Collar</td>\n",
       "      <td>6730 Biscayne Blvd</td>\n",
       "      <td>Miami</td>\n",
       "      <td>FL</td>\n",
       "      <td>33138</td>\n",
       "      <td>1.305756e+10</td>\n",
       "      <td>American (Traditional)</td>\n",
       "      <td>4.0</td>\n",
       "      <td>$$</td>\n",
       "      <td>26.079674</td>\n",
       "      <td>-80.252222</td>\n",
       "      <td>0</td>\n",
       "    </tr>\n",
       "    <tr>\n",
       "      <th>1</th>\n",
       "      <td>Atlantic No 5</td>\n",
       "      <td>605 W Main St</td>\n",
       "      <td>Louisville</td>\n",
       "      <td>KY</td>\n",
       "      <td>40202</td>\n",
       "      <td>1.502883e+10</td>\n",
       "      <td>Breakfast &amp; Brunch</td>\n",
       "      <td>4.0</td>\n",
       "      <td>$$</td>\n",
       "      <td>25.750963</td>\n",
       "      <td>-80.258375</td>\n",
       "      <td>1</td>\n",
       "    </tr>\n",
       "    <tr>\n",
       "      <th>2</th>\n",
       "      <td>Famous Dave's</td>\n",
       "      <td>17770 Southcenter Pkwy</td>\n",
       "      <td>Tukwila</td>\n",
       "      <td>WA</td>\n",
       "      <td>98188</td>\n",
       "      <td>1.206631e+10</td>\n",
       "      <td>Barbeque</td>\n",
       "      <td>3.0</td>\n",
       "      <td>$$</td>\n",
       "      <td>34.028292</td>\n",
       "      <td>-81.093276</td>\n",
       "      <td>2</td>\n",
       "    </tr>\n",
       "    <tr>\n",
       "      <th>3</th>\n",
       "      <td>Quiznos</td>\n",
       "      <td>1595 N Peach Ave</td>\n",
       "      <td>Fresno</td>\n",
       "      <td>CA</td>\n",
       "      <td>93727</td>\n",
       "      <td>1.559455e+10</td>\n",
       "      <td>Fast Food</td>\n",
       "      <td>3.0</td>\n",
       "      <td>$</td>\n",
       "      <td>44.939642</td>\n",
       "      <td>-93.136030</td>\n",
       "      <td>3</td>\n",
       "    </tr>\n",
       "    <tr>\n",
       "      <th>4</th>\n",
       "      <td>Hobbit Cafe</td>\n",
       "      <td>2243 Richmond Ave</td>\n",
       "      <td>Houston</td>\n",
       "      <td>TX</td>\n",
       "      <td>77098</td>\n",
       "      <td>1.713527e+10</td>\n",
       "      <td>Breakfast &amp; Brunch</td>\n",
       "      <td>3.5</td>\n",
       "      <td>$$</td>\n",
       "      <td>40.115749</td>\n",
       "      <td>-83.089461</td>\n",
       "      <td>4</td>\n",
       "    </tr>\n",
       "  </tbody>\n",
       "</table>\n",
       "</div>"
      ],
      "text/plain": [
       "  restaurant_name                 address        city state zip_code  \\\n",
       "0     Blue Collar      6730 Biscayne Blvd       Miami    FL    33138   \n",
       "1   Atlantic No 5           605 W Main St  Louisville    KY    40202   \n",
       "2   Famous Dave's  17770 Southcenter Pkwy     Tukwila    WA    98188   \n",
       "3         Quiznos        1595 N Peach Ave      Fresno    CA    93727   \n",
       "4     Hobbit Cafe       2243 Richmond Ave     Houston    TX    77098   \n",
       "\n",
       "          phone            cuisine_type  rating price   latitude  longitude  \\\n",
       "0  1.305756e+10  American (Traditional)     4.0    $$  26.079674 -80.252222   \n",
       "1  1.502883e+10      Breakfast & Brunch     4.0    $$  25.750963 -80.258375   \n",
       "2  1.206631e+10                Barbeque     3.0    $$  34.028292 -81.093276   \n",
       "3  1.559455e+10               Fast Food     3.0     $  44.939642 -93.136030   \n",
       "4  1.713527e+10      Breakfast & Brunch     3.5    $$  40.115749 -83.089461   \n",
       "\n",
       "   id  \n",
       "0   0  \n",
       "1   1  \n",
       "2   2  \n",
       "3   3  \n",
       "4   4  "
      ]
     },
     "execution_count": 8,
     "metadata": {},
     "output_type": "execute_result"
    }
   ],
   "source": [
    "clean_no_index_df.head()"
   ]
  },
  {
   "cell_type": "code",
   "execution_count": 9,
   "metadata": {
    "collapsed": true
   },
   "outputs": [],
   "source": [
    "#Output clean test data to CSV [redundant - but do not delete]\n",
    "clean_no_index_df.to_csv(\"../CleanData/clean_test.csv\", index=True, header=True)\n"
   ]
  },
  {
   "cell_type": "code",
   "execution_count": null,
   "metadata": {
    "collapsed": true
   },
   "outputs": [],
   "source": []
  },
  {
   "cell_type": "code",
   "execution_count": 10,
   "metadata": {},
   "outputs": [
    {
     "name": "stdout",
     "output_type": "stream",
     "text": [
      "2018-03-24 02:46:48,190 INFO sqlalchemy.engine.base.Engine SELECT CAST('test plain returns' AS VARCHAR(60)) AS anon_1\n",
      "2018-03-24 02:46:48,192 INFO sqlalchemy.engine.base.Engine ()\n",
      "2018-03-24 02:46:48,195 INFO sqlalchemy.engine.base.Engine SELECT CAST('test unicode returns' AS VARCHAR(60)) AS anon_1\n",
      "2018-03-24 02:46:48,196 INFO sqlalchemy.engine.base.Engine ()\n"
     ]
    }
   ],
   "source": [
    "#Create engine\n",
    "engine = create_engine(\"sqlite:///../sqldata/clean_test.db\",echo=True) #Set echo=True for debugging\n",
    "inspector = inspect(engine)\n",
    "Base = declarative_base()\n"
   ]
  },
  {
   "cell_type": "code",
   "execution_count": 11,
   "metadata": {},
   "outputs": [
    {
     "name": "stdout",
     "output_type": "stream",
     "text": [
      "2018-03-24 02:46:48,744 INFO sqlalchemy.engine.base.Engine INSERT INTO vegetarian (id, restaurant_name, address, city, state, zip_code, phone, cuisine_type, rating, price, latitude, longitude) VALUES (?, ?, ?, ?, ?, ?, ?, ?, ?, ?, ?, ?)\n",
      "2018-03-24 02:46:48,760 INFO sqlalchemy.engine.base.Engine ((0, 'Blue Collar', '6730 Biscayne Blvd', 'Miami', 'FL', '33138', 13057560366.0, 'American (Traditional)', 4.0, '$$', 26.07967414, -80.25222212), (1, 'Atlantic No 5', '605 W Main St', 'Louisville', 'KY', '40202', 15028833398.0, 'Breakfast & Brunch', 4.0, '$$', 25.750963, -80.258375), (2, \"Famous Dave's\", '17770 Southcenter Pkwy', 'Tukwila', 'WA', '98188', 12066312000.0, 'Barbeque', 3.0, '$$', 34.02829213, -81.09327574), (3, 'Quiznos', '1595 N Peach Ave', 'Fresno', 'CA', '93727', 15594548477.0, 'Fast Food', 3.0, '$', 44.939642, -93.13603), (4, 'Hobbit Cafe', '2243 Richmond Ave', 'Houston', 'TX', '77098', 17135265460.0, 'Breakfast & Brunch', 3.5, '$$', 40.11574901, -83.08946112), (5, 'Pizzeria 3301', '3301 W Canal St', 'Milwaukee', 'WI', '53208', 14144550347.0, 'Pizza', 3.5, '$', 29.713354, -95.504259), (6, 'Pita Pit', '141 Township Ave', 'Ridgeland', 'MS', '39157', 16017909925.0, 'Sandwiches', 4.5, '$$', 41.8840684, -87.6412297), (7, \"P.F. Chang's\", '530 N Wabash Ave', 'Chicago', 'IL', '60611', 13128289977.0, 'Chinese', 3.0, '$$', 39.05737, -94.59787)  ... displaying 10 of 13194 total bound parameter sets ...  (13192, 'Smoothie King', '2315 Ponce De Leon Blvd', 'Coral Gables', 'FL', '33134', 13052005392.0, 'Juice Bars & Smoothies', 4.0, '$', 38.257374, -85.760051), (13193, 'Buca di Beppo Italian Restaurant', '3355 S University Dr', 'Davie', 'FL', '33328', 19545773287.0, 'Italian', 3.0, '$$', 25.83782, -80.184616))\n",
      "2018-03-24 02:46:48,831 INFO sqlalchemy.engine.base.Engine COMMIT\n"
     ]
    }
   ],
   "source": [
    "#clean_no_index.csv ---> dataframe ---> to_dict(orient='records') --> sqlite\n",
    "def populate(engine, table, csvfile):\n",
    "    conn = engine.connect()\n",
    "    df =pd.read_csv(csvfile,encoding='latin-1')\n",
    "    data = df.to_dict(orient='records')\n",
    "    conn.execute(table.insert(), data)\n",
    "\n",
    "#Establish class base\n",
    "class Vegetarian(Base):\n",
    "    __tablename__ = \"vegetarian\"\n",
    "    id = Column(Integer, primary_key=True)\n",
    "    restaurant_name = Column(String)\n",
    "    address = Column(String)\n",
    "    city = Column(String)\n",
    "    state = Column(String)\n",
    "    zip_code = Column(Integer)\n",
    "    phone = Column(Integer)\n",
    "    cuisine_type = Column(String)\n",
    "    rating = Column(String)\n",
    "    price = Column(String)\n",
    "    latitude = Column(Float)\n",
    "    longitude = Column(Float)\n",
    "    \n",
    "#run populate function on sqlite db\n",
    "populate(engine,Vegetarian.__table__,\"../CleanData/clean_test.csv\")"
   ]
  },
  {
   "cell_type": "code",
   "execution_count": 12,
   "metadata": {
    "scrolled": true
   },
   "outputs": [
    {
     "name": "stdout",
     "output_type": "stream",
     "text": [
      "2018-03-24 02:46:48,893 INFO sqlalchemy.engine.base.Engine PRAGMA table_info(\"vegetarian\")\n",
      "2018-03-24 02:46:48,894 INFO sqlalchemy.engine.base.Engine ()\n"
     ]
    }
   ],
   "source": [
    "conn = engine.connect()\n",
    "Base.metadata.create_all(engine)\n",
    "session = Session(bind=engine)\n",
    "\n",
    "#clean_no_index_df.to_sql('vegetarian', conn, if_exists='replace', index=False)"
   ]
  },
  {
   "cell_type": "code",
   "execution_count": 13,
   "metadata": {},
   "outputs": [
    {
     "name": "stdout",
     "output_type": "stream",
     "text": [
      "2018-03-24 02:46:48,909 INFO sqlalchemy.engine.base.Engine SELECT name FROM sqlite_master WHERE type='table' ORDER BY name\n",
      "2018-03-24 02:46:48,910 INFO sqlalchemy.engine.base.Engine ()\n",
      "['vegetarian']\n",
      "2018-03-24 02:46:48,917 INFO sqlalchemy.engine.base.Engine PRAGMA table_info([vegetarian]);\n",
      "2018-03-24 02:46:48,919 INFO sqlalchemy.engine.base.Engine ()\n",
      "(0, 'id', 'INTEGER', 1, None, 1)\n",
      "(1, 'restaurant_name', 'VARCHAR', 0, None, 0)\n",
      "(2, 'address', 'VARCHAR', 0, None, 0)\n",
      "(3, 'city', 'VARCHAR', 0, None, 0)\n",
      "(4, 'state', 'VARCHAR', 0, None, 0)\n",
      "(5, 'zip_code', 'INTEGER', 0, None, 0)\n",
      "(6, 'phone', 'INTEGER', 0, None, 0)\n",
      "(7, 'cuisine_type', 'VARCHAR', 0, None, 0)\n",
      "(8, 'rating', 'VARCHAR', 0, None, 0)\n",
      "(9, 'price', 'VARCHAR', 0, None, 0)\n",
      "(10, 'latitude', 'FLOAT', 0, None, 0)\n",
      "(11, 'longitude', 'FLOAT', 0, None, 0)\n"
     ]
    }
   ],
   "source": [
    "#Verify table creation with inspector + verify table information:\n",
    "print(inspector.get_table_names())\n",
    "data = engine.execute(\"PRAGMA table_info([vegetarian]);\")\n",
    "for item in data:\n",
    "    print(item)"
   ]
  },
  {
   "cell_type": "code",
   "execution_count": 14,
   "metadata": {
    "collapsed": true
   },
   "outputs": [],
   "source": [
    "#columns = inspector.get_columns('vegetarian')\n",
    "#print(\"Column names:\")\n",
    "#for c in columns:\n",
    "    #print(c['name'])\n",
    "#print(\"========================\")\n",
    "#print (columns)"
   ]
  },
  {
   "cell_type": "code",
   "execution_count": 15,
   "metadata": {},
   "outputs": [
    {
     "name": "stdout",
     "output_type": "stream",
     "text": [
      "2018-03-24 02:46:48,945 INFO sqlalchemy.engine.base.Engine PRAGMA table_info(\"vegetarian\")\n",
      "2018-03-24 02:46:48,947 INFO sqlalchemy.engine.base.Engine ()\n"
     ]
    }
   ],
   "source": [
    "Base.metadata.create_all(engine)\n",
    "session.commit()"
   ]
  },
  {
   "cell_type": "code",
   "execution_count": null,
   "metadata": {
    "collapsed": true,
    "scrolled": true
   },
   "outputs": [],
   "source": []
  },
  {
   "cell_type": "code",
   "execution_count": null,
   "metadata": {
    "collapsed": true
   },
   "outputs": [],
   "source": [
    "\n"
   ]
  },
  {
   "cell_type": "code",
   "execution_count": null,
   "metadata": {
    "collapsed": true
   },
   "outputs": [],
   "source": []
  },
  {
   "cell_type": "code",
   "execution_count": null,
   "metadata": {
    "collapsed": true
   },
   "outputs": [],
   "source": []
  },
  {
   "cell_type": "code",
   "execution_count": 16,
   "metadata": {},
   "outputs": [
    {
     "name": "stdout",
     "output_type": "stream",
     "text": [
      "2018-03-24 02:46:48,958 INFO sqlalchemy.engine.base.Engine PRAGMA table_info([vegetarian]);\n",
      "2018-03-24 02:46:48,959 INFO sqlalchemy.engine.base.Engine ()\n",
      "(0, 'id', 'INTEGER', 1, None, 1)\n",
      "(1, 'restaurant_name', 'VARCHAR', 0, None, 0)\n",
      "(2, 'address', 'VARCHAR', 0, None, 0)\n",
      "(3, 'city', 'VARCHAR', 0, None, 0)\n",
      "(4, 'state', 'VARCHAR', 0, None, 0)\n",
      "(5, 'zip_code', 'INTEGER', 0, None, 0)\n",
      "(6, 'phone', 'INTEGER', 0, None, 0)\n",
      "(7, 'cuisine_type', 'VARCHAR', 0, None, 0)\n",
      "(8, 'rating', 'VARCHAR', 0, None, 0)\n",
      "(9, 'price', 'VARCHAR', 0, None, 0)\n",
      "(10, 'latitude', 'FLOAT', 0, None, 0)\n",
      "(11, 'longitude', 'FLOAT', 0, None, 0)\n"
     ]
    }
   ],
   "source": [
    "#verify table information + column properties:\n",
    "data = engine.execute(\"PRAGMA table_info([vegetarian]);\")\n",
    "for item in data:\n",
    "    print(item)"
   ]
  },
  {
   "cell_type": "code",
   "execution_count": 17,
   "metadata": {},
   "outputs": [
    {
     "name": "stdout",
     "output_type": "stream",
     "text": [
      "2018-03-24 02:46:48,973 INFO sqlalchemy.engine.base.Engine PRAGMA table_info(\"vegetarian\")\n",
      "2018-03-24 02:46:48,975 INFO sqlalchemy.engine.base.Engine ()\n"
     ]
    }
   ],
   "source": [
    "Base.metadata.create_all(engine)\n",
    "session.commit()"
   ]
  },
  {
   "cell_type": "code",
   "execution_count": 18,
   "metadata": {},
   "outputs": [
    {
     "name": "stdout",
     "output_type": "stream",
     "text": [
      "2018-03-24 02:46:49,013 INFO sqlalchemy.engine.base.Engine BEGIN (implicit)\n",
      "2018-03-24 02:46:49,017 INFO sqlalchemy.engine.base.Engine SELECT vegetarian.id AS vegetarian_id, vegetarian.restaurant_name AS vegetarian_restaurant_name, vegetarian.address AS vegetarian_address, vegetarian.city AS vegetarian_city, vegetarian.state AS vegetarian_state, vegetarian.zip_code AS vegetarian_zip_code, vegetarian.phone AS vegetarian_phone, vegetarian.cuisine_type AS vegetarian_cuisine_type, vegetarian.rating AS vegetarian_rating, vegetarian.price AS vegetarian_price, vegetarian.latitude AS vegetarian_latitude, vegetarian.longitude AS vegetarian_longitude \n",
      "FROM vegetarian\n",
      "2018-03-24 02:46:49,022 INFO sqlalchemy.engine.base.Engine ()\n"
     ]
    },
    {
     "ename": "AttributeError",
     "evalue": "'list' object has no attribute '__dict__'",
     "output_type": "error",
     "traceback": [
      "\u001b[1;31m--------------------------------------------\u001b[0m",
      "\u001b[1;31mAttributeError\u001b[0mTraceback (most recent call last)",
      "\u001b[1;32m<ipython-input-18-242e6a8f4b49>\u001b[0m in \u001b[0;36m<module>\u001b[1;34m()\u001b[0m\n\u001b[0;32m      1\u001b[0m \u001b[1;31m## Display the row's columns and data in dictionary format\u001b[0m\u001b[1;33m\u001b[0m\u001b[1;33m\u001b[0m\u001b[0m\n\u001b[0;32m      2\u001b[0m \u001b[0mfirst_row\u001b[0m \u001b[1;33m=\u001b[0m \u001b[0msession\u001b[0m\u001b[1;33m.\u001b[0m\u001b[0mquery\u001b[0m\u001b[1;33m(\u001b[0m\u001b[0mVegetarian\u001b[0m\u001b[1;33m)\u001b[0m\u001b[1;33m.\u001b[0m\u001b[0mall\u001b[0m\u001b[1;33m(\u001b[0m\u001b[1;33m)\u001b[0m\u001b[1;33m\u001b[0m\u001b[0m\n\u001b[1;32m----> 3\u001b[1;33m \u001b[0mfirst_row\u001b[0m\u001b[1;33m.\u001b[0m\u001b[0m__dict__\u001b[0m\u001b[1;33m\u001b[0m\u001b[0m\n\u001b[0m",
      "\u001b[1;31mAttributeError\u001b[0m: 'list' object has no attribute '__dict__'"
     ]
    }
   ],
   "source": [
    "#Move testing_grounds.ipynb after response working:\n",
    "## Display the row's columns and data in dictionary format\n",
    "first_row = session.query(Vegetarian).all()\n",
    "first_row.__dict__"
   ]
  },
  {
   "cell_type": "code",
   "execution_count": null,
   "metadata": {
    "collapsed": true
   },
   "outputs": [],
   "source": []
  }
 ],
 "metadata": {
  "kernelspec": {
   "display_name": "Python 3",
   "language": "python",
   "name": "python3"
  },
  "language_info": {
   "codemirror_mode": {
    "name": "ipython",
    "version": 3
   },
   "file_extension": ".py",
   "mimetype": "text/x-python",
   "name": "python",
   "nbconvert_exporter": "python",
   "pygments_lexer": "ipython3",
   "version": "3.6.1"
  }
 },
 "nbformat": 4,
 "nbformat_minor": 2
}
