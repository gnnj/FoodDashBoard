{
 "cells": [
  {
   "cell_type": "code",
   "execution_count": 10,
   "metadata": {
    "collapsed": true
   },
   "outputs": [],
   "source": [
    "#Imports\n",
    "import pandas as pd\n",
    "import csv\n",
    "#Sqlalchemy imports\n",
    "from sqlalchemy import Column, Float, Integer, String, DateTime\n",
    "from sqlalchemy.ext.declarative import declarative_base\n",
    "from sqlalchemy.ext.automap import automap_base\n",
    "from sqlalchemy.orm import Session\n",
    "from sqlalchemy import create_engine,inspect,func"
   ]
  },
  {
   "cell_type": "code",
   "execution_count": 11,
   "metadata": {},
   "outputs": [],
   "source": [
    "#CSV import\n",
    "clean_no_index = \"../CleanData/clean_no_index.csv\"\n",
    "clean_no_index_df = pd.read_csv(clean_no_index,encoding='latin-1')"
   ]
  },
  {
   "cell_type": "code",
   "execution_count": 3,
   "metadata": {},
   "outputs": [
    {
     "name": "stdout",
     "output_type": "stream",
     "text": [
      "clean_no_index_df column information: \n",
      "\n",
      "Index(['restaurant_name', 'address', 'city', 'state', 'zip_code', 'phone',\n",
      "       'cuisine_type', 'rating', 'price', 'latitude', 'longitude'],\n",
      "      dtype='object') restaurant_name     object\n",
      "address             object\n",
      "city                object\n",
      "state               object\n",
      "zip_code            object\n",
      "phone              float64\n",
      "cuisine_type        object\n",
      "rating             float64\n",
      "price               object\n",
      "latitude           float64\n",
      "longitude          float64\n",
      "dtype: object\n"
     ]
    }
   ],
   "source": [
    "#Data structure overview\n",
    "print(\"clean_no_index_df column information: \\n\")\n",
    "print(clean_no_index_df.columns,clean_no_index_df.dtypes) "
   ]
  },
  {
   "cell_type": "code",
   "execution_count": 12,
   "metadata": {},
   "outputs": [
    {
     "data": {
      "text/html": [
       "<div>\n",
       "<style>\n",
       "    .dataframe thead tr:only-child th {\n",
       "        text-align: right;\n",
       "    }\n",
       "\n",
       "    .dataframe thead th {\n",
       "        text-align: left;\n",
       "    }\n",
       "\n",
       "    .dataframe tbody tr th {\n",
       "        vertical-align: top;\n",
       "    }\n",
       "</style>\n",
       "<table border=\"1\" class=\"dataframe\">\n",
       "  <thead>\n",
       "    <tr style=\"text-align: right;\">\n",
       "      <th></th>\n",
       "      <th>restaurant_name</th>\n",
       "      <th>address</th>\n",
       "      <th>city</th>\n",
       "      <th>state</th>\n",
       "      <th>zip_code</th>\n",
       "      <th>phone</th>\n",
       "      <th>cuisine_type</th>\n",
       "      <th>rating</th>\n",
       "      <th>price</th>\n",
       "      <th>latitude</th>\n",
       "      <th>longitude</th>\n",
       "    </tr>\n",
       "  </thead>\n",
       "  <tbody>\n",
       "    <tr>\n",
       "      <th>0</th>\n",
       "      <td>Blue Collar</td>\n",
       "      <td>6730 Biscayne Blvd</td>\n",
       "      <td>Miami</td>\n",
       "      <td>FL</td>\n",
       "      <td>33138</td>\n",
       "      <td>1.305756e+10</td>\n",
       "      <td>American (Traditional)</td>\n",
       "      <td>4.0</td>\n",
       "      <td>$$</td>\n",
       "      <td>26.079674</td>\n",
       "      <td>-80.252222</td>\n",
       "    </tr>\n",
       "    <tr>\n",
       "      <th>1</th>\n",
       "      <td>Atlantic No 5</td>\n",
       "      <td>605 W Main St</td>\n",
       "      <td>Louisville</td>\n",
       "      <td>KY</td>\n",
       "      <td>40202</td>\n",
       "      <td>1.502883e+10</td>\n",
       "      <td>Breakfast &amp; Brunch</td>\n",
       "      <td>4.0</td>\n",
       "      <td>$$</td>\n",
       "      <td>25.750963</td>\n",
       "      <td>-80.258375</td>\n",
       "    </tr>\n",
       "    <tr>\n",
       "      <th>2</th>\n",
       "      <td>Famous Dave's</td>\n",
       "      <td>17770 Southcenter Pkwy</td>\n",
       "      <td>Tukwila</td>\n",
       "      <td>WA</td>\n",
       "      <td>98188</td>\n",
       "      <td>1.206631e+10</td>\n",
       "      <td>Barbeque</td>\n",
       "      <td>3.0</td>\n",
       "      <td>$$</td>\n",
       "      <td>34.028292</td>\n",
       "      <td>-81.093276</td>\n",
       "    </tr>\n",
       "    <tr>\n",
       "      <th>3</th>\n",
       "      <td>Quiznos</td>\n",
       "      <td>1595 N Peach Ave</td>\n",
       "      <td>Fresno</td>\n",
       "      <td>CA</td>\n",
       "      <td>93727</td>\n",
       "      <td>1.559455e+10</td>\n",
       "      <td>Fast Food</td>\n",
       "      <td>3.0</td>\n",
       "      <td>$</td>\n",
       "      <td>44.939642</td>\n",
       "      <td>-93.136030</td>\n",
       "    </tr>\n",
       "    <tr>\n",
       "      <th>4</th>\n",
       "      <td>Hobbit Cafe</td>\n",
       "      <td>2243 Richmond Ave</td>\n",
       "      <td>Houston</td>\n",
       "      <td>TX</td>\n",
       "      <td>77098</td>\n",
       "      <td>1.713527e+10</td>\n",
       "      <td>Breakfast &amp; Brunch</td>\n",
       "      <td>3.5</td>\n",
       "      <td>$$</td>\n",
       "      <td>40.115749</td>\n",
       "      <td>-83.089461</td>\n",
       "    </tr>\n",
       "  </tbody>\n",
       "</table>\n",
       "</div>"
      ],
      "text/plain": [
       "  restaurant_name                 address        city state zip_code  \\\n",
       "0     Blue Collar      6730 Biscayne Blvd       Miami    FL    33138   \n",
       "1   Atlantic No 5           605 W Main St  Louisville    KY    40202   \n",
       "2   Famous Dave's  17770 Southcenter Pkwy     Tukwila    WA    98188   \n",
       "3         Quiznos        1595 N Peach Ave      Fresno    CA    93727   \n",
       "4     Hobbit Cafe       2243 Richmond Ave     Houston    TX    77098   \n",
       "\n",
       "          phone            cuisine_type  rating price   latitude  longitude  \n",
       "0  1.305756e+10  American (Traditional)     4.0    $$  26.079674 -80.252222  \n",
       "1  1.502883e+10      Breakfast & Brunch     4.0    $$  25.750963 -80.258375  \n",
       "2  1.206631e+10                Barbeque     3.0    $$  34.028292 -81.093276  \n",
       "3  1.559455e+10               Fast Food     3.0     $  44.939642 -93.136030  \n",
       "4  1.713527e+10      Breakfast & Brunch     3.5    $$  40.115749 -83.089461  "
      ]
     },
     "execution_count": 12,
     "metadata": {},
     "output_type": "execute_result"
    }
   ],
   "source": [
    "clean_no_index_df.head()"
   ]
  },
  {
   "cell_type": "code",
   "execution_count": null,
   "metadata": {},
   "outputs": [],
   "source": []
  },
  {
   "cell_type": "code",
   "execution_count": null,
   "metadata": {},
   "outputs": [],
   "source": [
    "\n"
   ]
  },
  {
   "cell_type": "code",
   "execution_count": 13,
   "metadata": {
    "collapsed": true
   },
   "outputs": [],
   "source": [
    "#Output clean test data to CSV\n",
    "clean_no_index_df.to_csv(\"../CleanData/clean_test.csv\", index=False, header=True)"
   ]
  },
  {
   "cell_type": "code",
   "execution_count": 15,
   "metadata": {},
   "outputs": [
    {
     "name": "stdout",
     "output_type": "stream",
     "text": [
      "2018-03-24 01:05:26,931 INFO sqlalchemy.engine.base.Engine SELECT CAST('test plain returns' AS VARCHAR(60)) AS anon_1\n",
      "2018-03-24 01:05:26,931 INFO sqlalchemy.engine.base.Engine ()\n",
      "2018-03-24 01:05:26,933 INFO sqlalchemy.engine.base.Engine SELECT CAST('test unicode returns' AS VARCHAR(60)) AS anon_1\n",
      "2018-03-24 01:05:26,935 INFO sqlalchemy.engine.base.Engine ()\n",
      "2018-03-24 01:05:26,938 INFO sqlalchemy.engine.base.Engine PRAGMA table_info(\"vegetarian\")\n",
      "2018-03-24 01:05:26,940 INFO sqlalchemy.engine.base.Engine ()\n",
      "2018-03-24 01:05:26,943 INFO sqlalchemy.engine.base.Engine \n",
      "CREATE TABLE vegetarian (\n",
      "\tid INTEGER NOT NULL, \n",
      "\trestaurant_name VARCHAR, \n",
      "\taddress VARCHAR, \n",
      "\tcity VARCHAR, \n",
      "\tstate VARCHAR, \n",
      "\tzip_code INTEGER, \n",
      "\tphone INTEGER, \n",
      "\tcuisine_type VARCHAR, \n",
      "\trating VARCHAR, \n",
      "\tprice VARCHAR, \n",
      "\tlatitude FLOAT, \n",
      "\tlongitude FLOAT, \n",
      "\tPRIMARY KEY (id)\n",
      ")\n",
      "\n",
      "\n",
      "2018-03-24 01:05:26,944 INFO sqlalchemy.engine.base.Engine ()\n",
      "2018-03-24 01:05:26,956 INFO sqlalchemy.engine.base.Engine COMMIT\n",
      "2018-03-24 01:05:26,980 INFO sqlalchemy.engine.base.Engine PRAGMA table_info(\"vegetarian\")\n",
      "2018-03-24 01:05:26,982 INFO sqlalchemy.engine.base.Engine ()\n",
      "2018-03-24 01:05:26,985 INFO sqlalchemy.engine.base.Engine PRAGMA table_info(\"vegetarian\")\n",
      "2018-03-24 01:05:26,986 INFO sqlalchemy.engine.base.Engine ()\n",
      "2018-03-24 01:05:26,989 INFO sqlalchemy.engine.base.Engine SELECT name FROM sqlite_master WHERE type='table' ORDER BY name\n",
      "2018-03-24 01:05:26,990 INFO sqlalchemy.engine.base.Engine ()\n",
      "2018-03-24 01:05:26,993 INFO sqlalchemy.engine.base.Engine PRAGMA table_info(\"vegetarian\")\n",
      "2018-03-24 01:05:26,994 INFO sqlalchemy.engine.base.Engine ()\n",
      "2018-03-24 01:05:26,998 INFO sqlalchemy.engine.base.Engine SELECT sql FROM  (SELECT * FROM sqlite_master UNION ALL   SELECT * FROM sqlite_temp_master) WHERE name = 'vegetarian' AND type = 'table'\n",
      "2018-03-24 01:05:27,000 INFO sqlalchemy.engine.base.Engine ()\n",
      "2018-03-24 01:05:27,005 INFO sqlalchemy.engine.base.Engine PRAGMA foreign_key_list(\"vegetarian\")\n",
      "2018-03-24 01:05:27,008 INFO sqlalchemy.engine.base.Engine ()\n",
      "2018-03-24 01:05:27,010 INFO sqlalchemy.engine.base.Engine SELECT sql FROM  (SELECT * FROM sqlite_master UNION ALL   SELECT * FROM sqlite_temp_master) WHERE name = 'vegetarian' AND type = 'table'\n",
      "2018-03-24 01:05:27,011 INFO sqlalchemy.engine.base.Engine ()\n",
      "2018-03-24 01:05:27,017 INFO sqlalchemy.engine.base.Engine PRAGMA index_list(\"vegetarian\")\n",
      "2018-03-24 01:05:27,019 INFO sqlalchemy.engine.base.Engine ()\n",
      "2018-03-24 01:05:27,021 INFO sqlalchemy.engine.base.Engine PRAGMA index_list(\"vegetarian\")\n",
      "2018-03-24 01:05:27,022 INFO sqlalchemy.engine.base.Engine ()\n",
      "2018-03-24 01:05:27,024 INFO sqlalchemy.engine.base.Engine SELECT sql FROM  (SELECT * FROM sqlite_master UNION ALL   SELECT * FROM sqlite_temp_master) WHERE name = 'vegetarian' AND type = 'table'\n",
      "2018-03-24 01:05:27,026 INFO sqlalchemy.engine.base.Engine ()\n",
      "2018-03-24 01:05:27,032 INFO sqlalchemy.engine.base.Engine \n",
      "DROP TABLE vegetarian\n",
      "2018-03-24 01:05:27,033 INFO sqlalchemy.engine.base.Engine ()\n",
      "2018-03-24 01:05:27,042 INFO sqlalchemy.engine.base.Engine COMMIT\n",
      "2018-03-24 01:05:27,045 INFO sqlalchemy.engine.base.Engine \n",
      "CREATE TABLE vegetarian (\n",
      "\trestaurant_name TEXT, \n",
      "\taddress TEXT, \n",
      "\tcity TEXT, \n",
      "\tstate TEXT, \n",
      "\tzip_code TEXT, \n",
      "\tphone FLOAT, \n",
      "\tcuisine_type TEXT, \n",
      "\trating FLOAT, \n",
      "\tprice TEXT, \n",
      "\tlatitude FLOAT, \n",
      "\tlongitude FLOAT\n",
      ")\n",
      "\n",
      "\n",
      "2018-03-24 01:05:27,047 INFO sqlalchemy.engine.base.Engine ()\n",
      "2018-03-24 01:05:27,059 INFO sqlalchemy.engine.base.Engine COMMIT\n",
      "2018-03-24 01:05:27,080 INFO sqlalchemy.engine.base.Engine BEGIN (implicit)\n",
      "2018-03-24 01:05:27,287 INFO sqlalchemy.engine.base.Engine INSERT INTO vegetarian (restaurant_name, address, city, state, zip_code, phone, cuisine_type, rating, price, latitude, longitude) VALUES (?, ?, ?, ?, ?, ?, ?, ?, ?, ?, ?)\n",
      "2018-03-24 01:05:27,288 INFO sqlalchemy.engine.base.Engine (('Blue Collar', '6730 Biscayne Blvd', 'Miami', 'FL', '33138', 13057560366.0, 'American (Traditional)', 4.0, '$$', 26.07967414, -80.25222212), ('Atlantic No 5', '605 W Main St', 'Louisville', 'KY', '40202', 15028833398.0, 'Breakfast & Brunch', 4.0, '$$', 25.750963, -80.258375), (\"Famous Dave's\", '17770 Southcenter Pkwy', 'Tukwila', 'WA', '98188', 12066312000.0, 'Barbeque', 3.0, '$$', 34.02829213, -81.09327574), ('Quiznos', '1595 N Peach Ave', 'Fresno', 'CA', '93727', 15594548477.0, 'Fast Food', 3.0, '$', 44.939642, -93.13603), ('Hobbit Cafe', '2243 Richmond Ave', 'Houston', 'TX', '77098', 17135265460.0, 'Breakfast & Brunch', 3.5, '$$', 40.11574901, -83.08946112), ('Pizzeria 3301', '3301 W Canal St', 'Milwaukee', 'WI', '53208', 14144550347.0, 'Pizza', 3.5, '$', 29.713354, -95.50425899999999), ('Pita Pit', '141 Township Ave', 'Ridgeland', 'MS', '39157', 16017909925.0, 'Sandwiches', 4.5, '$$', 41.884068400000004, -87.6412297), (\"P.F. Chang's\", '530 N Wabash Ave', 'Chicago', 'IL', '60611', 13128289977.0, 'Chinese', 3.0, '$$', 39.05737, -94.59787)  ... displaying 10 of 13194 total bound parameter sets ...  ('Smoothie King', '2315 Ponce De Leon Blvd', 'Coral Gables', 'FL', '33134', 13052005392.0, 'Juice Bars & Smoothies', 4.0, '$', 38.257374, -85.760051), ('Buca di Beppo Italian Restaurant', '3355 S University Dr', 'Davie', 'FL', '33328', 19545773287.0, 'Italian', 3.0, '$$', 25.83782, -80.184616))\n",
      "2018-03-24 01:05:27,340 INFO sqlalchemy.engine.base.Engine COMMIT\n"
     ]
    }
   ],
   "source": [
    "#Output clean test data to SQLite\n",
    "engine = create_engine(\"sqlite:///../sqldata/clean_test.db\",echo=True)\n",
    "Base = declarative_base()\n",
    "class Vegetarian(Base):\n",
    "    __tablename__ = \"vegetarian\"\n",
    "   # __table_args__ = {'extend_existing': True}\n",
    "    id = Column(Integer, primary_key=True)\n",
    "    restaurant_name = Column(String)\n",
    "    address = Column(String)\n",
    "    city = Column(String)\n",
    "    state = Column(String)\n",
    "    zip_code = Column(Integer)\n",
    "    phone = Column(Integer)\n",
    "    cuisine_type = Column(String)\n",
    "    rating = Column(String)\n",
    "    price = Column(String)\n",
    "    latitude = Column(Float)\n",
    "    longitude = Column(Float)\n",
    "Base.metadata.create_all(engine)\n",
    "session = Session(bind=engine)\n",
    "conn = engine.connect()\n",
    "\n",
    "clean_no_index_df.to_sql('vegetarian', conn, if_exists='replace', index=False)"
   ]
  },
  {
   "cell_type": "code",
   "execution_count": 17,
   "metadata": {},
   "outputs": [
    {
     "name": "stdout",
     "output_type": "stream",
     "text": [
      "2018-03-24 01:06:31,520 INFO sqlalchemy.engine.base.Engine PRAGMA table_info([vegetarian]);\n",
      "2018-03-24 01:06:31,521 INFO sqlalchemy.engine.base.Engine ()\n",
      "(0, 'restaurant_name', 'TEXT', 0, None, 0)\n",
      "(1, 'address', 'TEXT', 0, None, 0)\n",
      "(2, 'city', 'TEXT', 0, None, 0)\n",
      "(3, 'state', 'TEXT', 0, None, 0)\n",
      "(4, 'zip_code', 'TEXT', 0, None, 0)\n",
      "(5, 'phone', 'FLOAT', 0, None, 0)\n",
      "(6, 'cuisine_type', 'TEXT', 0, None, 0)\n",
      "(7, 'rating', 'FLOAT', 0, None, 0)\n",
      "(8, 'price', 'TEXT', 0, None, 0)\n",
      "(9, 'latitude', 'FLOAT', 0, None, 0)\n",
      "(10, 'longitude', 'FLOAT', 0, None, 0)\n"
     ]
    }
   ],
   "source": [
    "#verify table information:\n",
    "data = engine.execute(\"PRAGMA table_info([vegetarian]);\")\n",
    "for item in data:\n",
    "    print(item)"
   ]
  },
  {
   "cell_type": "code",
   "execution_count": null,
   "metadata": {
    "collapsed": true
   },
   "outputs": [],
   "source": []
  }
 ],
 "metadata": {
  "kernelspec": {
   "display_name": "Python 3",
   "language": "python",
   "name": "python3"
  },
  "language_info": {
   "codemirror_mode": {
    "name": "ipython",
    "version": 3
   },
   "file_extension": ".py",
   "mimetype": "text/x-python",
   "name": "python",
   "nbconvert_exporter": "python",
   "pygments_lexer": "ipython3",
   "version": "3.6.1"
  }
 },
 "nbformat": 4,
 "nbformat_minor": 2
}
