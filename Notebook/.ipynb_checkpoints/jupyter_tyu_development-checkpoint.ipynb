{
 "cells": [
  {
   "cell_type": "code",
   "execution_count": 6,
   "metadata": {
    "collapsed": true
   },
   "outputs": [],
   "source": [
    "#Imports\n",
    "import pandas as pd\n",
    "from datetime import datetime\n",
    "import csv\n",
    "\n",
    "#Sqlalchemy imports\n",
    "from sqlalchemy import Column, Float, Integer, String, DateTime\n",
    "from sqlalchemy.ext.declarative import declarative_base\n",
    "from sqlalchemy.ext.automap import automap_base\n",
    "from sqlalchemy.orm import Session\n",
    "from sqlalchemy import create_engine,inspect,func\n",
    "# Flask imports\n",
    "from flask import Flask, jsonify, render_template"
   ]
  },
  {
   "cell_type": "code",
   "execution_count": 28,
   "metadata": {},
   "outputs": [
    {
     "name": "stdout",
     "output_type": "stream",
     "text": [
      "2018-03-23 23:26:10,543 INFO sqlalchemy.engine.base.Engine SELECT CAST('test plain returns' AS VARCHAR(60)) AS anon_1\n",
      "2018-03-23 23:26:10,544 INFO sqlalchemy.engine.base.Engine ()\n",
      "2018-03-23 23:26:10,546 INFO sqlalchemy.engine.base.Engine SELECT CAST('test unicode returns' AS VARCHAR(60)) AS anon_1\n",
      "2018-03-23 23:26:10,547 INFO sqlalchemy.engine.base.Engine ()\n",
      "2018-03-23 23:26:10,550 INFO sqlalchemy.engine.base.Engine SELECT name FROM sqlite_master WHERE type='table' ORDER BY name\n",
      "2018-03-23 23:26:10,551 INFO sqlalchemy.engine.base.Engine ()\n",
      "2018-03-23 23:26:10,554 INFO sqlalchemy.engine.base.Engine PRAGMA table_info(\"vegetarian\")\n",
      "2018-03-23 23:26:10,555 INFO sqlalchemy.engine.base.Engine ()\n",
      "2018-03-23 23:26:10,559 INFO sqlalchemy.engine.base.Engine SELECT sql FROM  (SELECT * FROM sqlite_master UNION ALL   SELECT * FROM sqlite_temp_master) WHERE name = 'vegetarian' AND type = 'table'\n",
      "2018-03-23 23:26:10,560 INFO sqlalchemy.engine.base.Engine ()\n",
      "2018-03-23 23:26:10,562 INFO sqlalchemy.engine.base.Engine PRAGMA foreign_key_list(\"vegetarian\")\n",
      "2018-03-23 23:26:10,564 INFO sqlalchemy.engine.base.Engine ()\n",
      "2018-03-23 23:26:10,565 INFO sqlalchemy.engine.base.Engine SELECT sql FROM  (SELECT * FROM sqlite_master UNION ALL   SELECT * FROM sqlite_temp_master) WHERE name = 'vegetarian' AND type = 'table'\n",
      "2018-03-23 23:26:10,566 INFO sqlalchemy.engine.base.Engine ()\n",
      "2018-03-23 23:26:10,568 INFO sqlalchemy.engine.base.Engine PRAGMA index_list(\"vegetarian\")\n",
      "2018-03-23 23:26:10,569 INFO sqlalchemy.engine.base.Engine ()\n",
      "2018-03-23 23:26:10,571 INFO sqlalchemy.engine.base.Engine PRAGMA index_list(\"vegetarian\")\n",
      "2018-03-23 23:26:10,572 INFO sqlalchemy.engine.base.Engine ()\n",
      "2018-03-23 23:26:10,574 INFO sqlalchemy.engine.base.Engine SELECT sql FROM  (SELECT * FROM sqlite_master UNION ALL   SELECT * FROM sqlite_temp_master) WHERE name = 'vegetarian' AND type = 'table'\n",
      "2018-03-23 23:26:10,576 INFO sqlalchemy.engine.base.Engine ()\n"
     ]
    },
    {
     "data": {
      "text/plain": [
       "[]"
      ]
     },
     "execution_count": 28,
     "metadata": {},
     "output_type": "execute_result"
    }
   ],
   "source": [
    "#Create engine\n",
    "    #Set echo=True for debugging\n",
    "engine = create_engine(\"sqlite:///../sqldata/restaurant.db\",echo=True)\n",
    "#Link inspector to engine\n",
    "inspector = inspect(engine)\n",
    "# Declare a Base using `automap_base()`\n",
    "Base = automap_base()\n",
    "# Use the Base class to reflect the database tables\n",
    "Base.metadata.create_all(engine)\n",
    "Base.prepare(engine, reflect=True)\n"
   ]
  },
  {
   "cell_type": "code",
   "execution_count": 34,
   "metadata": {},
   "outputs": [
    {
     "ename": "NameError",
     "evalue": "name 'Address' is not defined",
     "output_type": "error",
     "traceback": [
      "\u001b[1;31m--------------------------------------------\u001b[0m",
      "\u001b[1;31mNameError\u001b[0m  Traceback (most recent call last)",
      "\u001b[1;32m<ipython-input-34-506977fa7d7a>\u001b[0m in \u001b[0;36m<module>\u001b[1;34m()\u001b[0m\n\u001b[0;32m      1\u001b[0m \u001b[0minspector\u001b[0m\u001b[1;33m.\u001b[0m\u001b[0mget_table_names\u001b[0m\u001b[1;33m(\u001b[0m\u001b[1;33m)\u001b[0m\u001b[1;33m\u001b[0m\u001b[0m\n\u001b[1;32m----> 2\u001b[1;33m \u001b[0mmapper\u001b[0m \u001b[1;33m=\u001b[0m \u001b[0minspect\u001b[0m\u001b[1;33m(\u001b[0m\u001b[0mAddress\u001b[0m\u001b[1;33m)\u001b[0m\u001b[1;33m\u001b[0m\u001b[0m\n\u001b[0m",
      "\u001b[1;31mNameError\u001b[0m: name 'Address' is not defined"
     ]
    }
   ],
   "source": [
    "inspector.get_table_names()\n"
   ]
  },
  {
   "cell_type": "code",
   "execution_count": 31,
   "metadata": {},
   "outputs": [
    {
     "data": {
      "text/plain": [
       "[]"
      ]
     },
     "execution_count": 31,
     "metadata": {},
     "output_type": "execute_result"
    }
   ],
   "source": [
    "Base.classes.keys()"
   ]
  },
  {
   "cell_type": "code",
   "execution_count": null,
   "metadata": {},
   "outputs": [],
   "source": [
    "#Create session (to pusb objects and query server)\n",
    "session = Session(bind=engine)"
   ]
  },
  {
   "cell_type": "code",
   "execution_count": null,
   "metadata": {
    "collapsed": true
   },
   "outputs": [],
   "source": []
  },
  {
   "cell_type": "code",
   "execution_count": 30,
   "metadata": {},
   "outputs": [],
   "source": [
    "#first_row = session.query(CLASSNAMEHERE).first()\n",
    "## Display the row's columns and data in dictionary format\n",
    "#first_row.__dict__\n"
   ]
  },
  {
   "cell_type": "code",
   "execution_count": 4,
   "metadata": {},
   "outputs": [],
   "source": [
    "\n",
    "Base.metadata.create_all(engine)\n",
    "# Use the Base class to reflect the database tables\n",
    "Base.prepare(engine, reflect=True)\n",
    "inspector = inspect(engine)\n",
    "\n",
    "\n",
    "\n",
    "Base.classes.keys()\n",
    "\n",
    "conn = conn = engine.connect()\n",
    "\n"
   ]
  },
  {
   "cell_type": "code",
   "execution_count": null,
   "metadata": {},
   "outputs": [],
   "source": []
  },
  {
   "cell_type": "code",
   "execution_count": null,
   "metadata": {
    "collapsed": true
   },
   "outputs": [],
   "source": []
  }
 ],
 "metadata": {
  "kernelspec": {
   "display_name": "Python 3",
   "language": "python",
   "name": "python3"
  },
  "language_info": {
   "codemirror_mode": {
    "name": "ipython",
    "version": 3
   },
   "file_extension": ".py",
   "mimetype": "text/x-python",
   "name": "python",
   "nbconvert_exporter": "python",
   "pygments_lexer": "ipython3",
   "version": "3.6.1"
  }
 },
 "nbformat": 4,
 "nbformat_minor": 2
}
