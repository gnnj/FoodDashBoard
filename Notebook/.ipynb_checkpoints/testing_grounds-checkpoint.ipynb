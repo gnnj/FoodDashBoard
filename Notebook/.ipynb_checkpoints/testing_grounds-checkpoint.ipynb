{
 "cells": [
  {
   "cell_type": "code",
   "execution_count": 11,
   "metadata": {
    "collapsed": true
   },
   "outputs": [],
   "source": [
    "#testing_grounds: 3nd part of process. \n",
    "    #Implementation and testing of JSON from list/dict object \n",
    "    #Precursor to flask routes\n",
    "\n",
    "#Imports\n",
    "import pandas as pd\n",
    "from datetime import datetime\n",
    "import csv\n",
    "\n",
    "#Sqlalchemy imports\n",
    "from sqlalchemy import Column, Float, Integer, String, DateTime\n",
    "from sqlalchemy.ext.declarative import declarative_base\n",
    "from sqlalchemy.ext.automap import automap_base\n",
    "from sqlalchemy.orm import Session\n",
    "from sqlalchemy import create_engine,inspect,func\n",
    "# Flask imports\n",
    "from flask import Flask, jsonify, render_template"
   ]
  },
  {
   "cell_type": "code",
   "execution_count": 12,
   "metadata": {
    "collapsed": true
   },
   "outputs": [],
   "source": [
    "#Create engine\n",
    "engine = create_engine(\"sqlite:///../sqldata/clean_test.db\",echo=False) #Set echo=True for debugging\n",
    "inspector = inspect(engine)\n",
    "Base = declarative_base()\n",
    "conn = engine.connect()\n",
    "session = Session(bind=engine)\n",
    "\n",
    "#Establish class base/Class reference\n",
    "class Vegetarian(Base):\n",
    "    __tablename__ = \"vegetarian\"\n",
    "    id = Column(Integer, primary_key=True)\n",
    "    restaurant_name = Column(String)\n",
    "    address = Column(String)\n",
    "    city = Column(String)\n",
    "    state = Column(String)\n",
    "    zip_code = Column(Integer)\n",
    "    phone = Column(Integer)\n",
    "    cuisine_type = Column(String)\n",
    "    rating = Column(String)\n",
    "    price = Column(String)\n",
    "    latitude = Column(Float)\n",
    "    longitude = Column(Float)\n"
   ]
  },
  {
   "cell_type": "code",
   "execution_count": 13,
   "metadata": {},
   "outputs": [
    {
     "name": "stdout",
     "output_type": "stream",
     "text": [
      "(0, 'id', 'INTEGER', 1, None, 1)\n",
      "(1, 'restaurant_name', 'VARCHAR', 0, None, 0)\n",
      "(2, 'address', 'VARCHAR', 0, None, 0)\n",
      "(3, 'city', 'VARCHAR', 0, None, 0)\n",
      "(4, 'state', 'VARCHAR', 0, None, 0)\n",
      "(5, 'zip_code', 'INTEGER', 0, None, 0)\n",
      "(6, 'phone', 'INTEGER', 0, None, 0)\n",
      "(7, 'cuisine_type', 'VARCHAR', 0, None, 0)\n",
      "(8, 'rating', 'VARCHAR', 0, None, 0)\n",
      "(9, 'price', 'VARCHAR', 0, None, 0)\n",
      "(10, 'latitude', 'FLOAT', 0, None, 0)\n",
      "(11, 'longitude', 'FLOAT', 0, None, 0)\n"
     ]
    }
   ],
   "source": [
    "#verify table information + column properties:\n",
    "data = engine.execute(\"PRAGMA table_info([vegetarian]);\")\n",
    "for item in data:\n",
    "    print(item)"
   ]
  },
  {
   "cell_type": "code",
   "execution_count": null,
   "metadata": {
    "collapsed": true
   },
   "outputs": [],
   "source": []
  },
  {
   "cell_type": "code",
   "execution_count": 18,
   "metadata": {},
   "outputs": [
    {
     "data": {
      "text/plain": [
       "{'_sa_instance_state': <sqlalchemy.orm.state.InstanceState at 0x1c9b9c7ac50>,\n",
       " 'address': '6730 Biscayne Blvd',\n",
       " 'city': 'Miami',\n",
       " 'cuisine_type': 'American (Traditional)',\n",
       " 'id': 0,\n",
       " 'latitude': 26.07967414,\n",
       " 'longitude': -80.25222212,\n",
       " 'phone': 13057560366,\n",
       " 'price': '$$',\n",
       " 'rating': '4.0',\n",
       " 'restaurant_name': 'Blue Collar',\n",
       " 'state': 'FL',\n",
       " 'zip_code': 33138}"
      ]
     },
     "execution_count": 18,
     "metadata": {},
     "output_type": "execute_result"
    }
   ],
   "source": [
    "## Display the row's columns and data in dictionary format\n",
    "first_row = session.query(Vegetarian).first()\n",
    "first_row.__dict__"
   ]
  },
  {
   "cell_type": "code",
   "execution_count": null,
   "metadata": {
    "collapsed": true
   },
   "outputs": [],
   "source": []
  }
 ],
 "metadata": {
  "kernelspec": {
   "display_name": "Python 3",
   "language": "python",
   "name": "python3"
  },
  "language_info": {
   "codemirror_mode": {
    "name": "ipython",
    "version": 3
   },
   "file_extension": ".py",
   "mimetype": "text/x-python",
   "name": "python",
   "nbconvert_exporter": "python",
   "pygments_lexer": "ipython3",
   "version": "3.6.1"
  }
 },
 "nbformat": 4,
 "nbformat_minor": 2
}
