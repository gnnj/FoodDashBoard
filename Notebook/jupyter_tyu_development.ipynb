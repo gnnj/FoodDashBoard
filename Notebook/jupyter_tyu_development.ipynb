{
 "cells": [
  {
   "cell_type": "code",
   "execution_count": 1,
   "metadata": {
    "collapsed": true
   },
   "outputs": [],
   "source": [
    "#Imports\n",
    "import pandas as pd\n",
    "from datetime import datetime\n",
    "import csv\n",
    "\n",
    "#Sqlalchemy imports\n",
    "from sqlalchemy import Column, Float, Integer, String, DateTime\n",
    "from sqlalchemy.ext.declarative import declarative_base\n",
    "from sqlalchemy.ext.automap import automap_base\n",
    "from sqlalchemy.orm import Session\n",
    "from sqlalchemy import create_engine,inspect,func\n",
    "# Flask imports\n",
    "from flask import Flask, jsonify, render_template"
   ]
  },
  {
   "cell_type": "code",
   "execution_count": 2,
   "metadata": {
    "collapsed": true
   },
   "outputs": [],
   "source": [
    "#######Reimport csv, examine, and reoutput to sqlite#######\n",
    "#CSV import\n",
    "clean_no_index = \"../CleanData/clean_no_index.csv\"\n",
    "clean_no_index_df = pd.read_csv(clean_no_index,encoding='latin-1')"
   ]
  },
  {
   "cell_type": "code",
   "execution_count": 3,
   "metadata": {},
   "outputs": [
    {
     "name": "stdout",
     "output_type": "stream",
     "text": [
      "clean_no_index_df column information: \n",
      "\n",
      "Index(['restaurant_name', 'address', 'city', 'state', 'zip_code', 'phone',\n",
      "       'cuisine_type', 'rating', 'price', 'latitude', 'longitude'],\n",
      "      dtype='object') restaurant_name     object\n",
      "address             object\n",
      "city                object\n",
      "state               object\n",
      "zip_code            object\n",
      "phone              float64\n",
      "cuisine_type        object\n",
      "rating             float64\n",
      "price               object\n",
      "latitude           float64\n",
      "longitude          float64\n",
      "dtype: object\n"
     ]
    }
   ],
   "source": [
    "#Data structure overview\n",
    "print(\"clean_no_index_df column information: \\n\")\n",
    "print(clean_no_index_df.columns,clean_no_index_df.dtypes) "
   ]
  },
  {
   "cell_type": "code",
   "execution_count": 4,
   "metadata": {},
   "outputs": [
    {
     "data": {
      "text/html": [
       "<div>\n",
       "<style>\n",
       "    .dataframe thead tr:only-child th {\n",
       "        text-align: right;\n",
       "    }\n",
       "\n",
       "    .dataframe thead th {\n",
       "        text-align: left;\n",
       "    }\n",
       "\n",
       "    .dataframe tbody tr th {\n",
       "        vertical-align: top;\n",
       "    }\n",
       "</style>\n",
       "<table border=\"1\" class=\"dataframe\">\n",
       "  <thead>\n",
       "    <tr style=\"text-align: right;\">\n",
       "      <th></th>\n",
       "      <th>restaurant_name</th>\n",
       "      <th>address</th>\n",
       "      <th>city</th>\n",
       "      <th>state</th>\n",
       "      <th>zip_code</th>\n",
       "      <th>phone</th>\n",
       "      <th>cuisine_type</th>\n",
       "      <th>rating</th>\n",
       "      <th>price</th>\n",
       "      <th>latitude</th>\n",
       "      <th>longitude</th>\n",
       "    </tr>\n",
       "  </thead>\n",
       "  <tbody>\n",
       "    <tr>\n",
       "      <th>0</th>\n",
       "      <td>Blue Collar</td>\n",
       "      <td>6730 Biscayne Blvd</td>\n",
       "      <td>Miami</td>\n",
       "      <td>FL</td>\n",
       "      <td>33138</td>\n",
       "      <td>1.305756e+10</td>\n",
       "      <td>American (Traditional)</td>\n",
       "      <td>4.0</td>\n",
       "      <td>$$</td>\n",
       "      <td>26.079674</td>\n",
       "      <td>-80.252222</td>\n",
       "    </tr>\n",
       "    <tr>\n",
       "      <th>1</th>\n",
       "      <td>Atlantic No 5</td>\n",
       "      <td>605 W Main St</td>\n",
       "      <td>Louisville</td>\n",
       "      <td>KY</td>\n",
       "      <td>40202</td>\n",
       "      <td>1.502883e+10</td>\n",
       "      <td>Breakfast &amp; Brunch</td>\n",
       "      <td>4.0</td>\n",
       "      <td>$$</td>\n",
       "      <td>25.750963</td>\n",
       "      <td>-80.258375</td>\n",
       "    </tr>\n",
       "    <tr>\n",
       "      <th>2</th>\n",
       "      <td>Famous Dave's</td>\n",
       "      <td>17770 Southcenter Pkwy</td>\n",
       "      <td>Tukwila</td>\n",
       "      <td>WA</td>\n",
       "      <td>98188</td>\n",
       "      <td>1.206631e+10</td>\n",
       "      <td>Barbeque</td>\n",
       "      <td>3.0</td>\n",
       "      <td>$$</td>\n",
       "      <td>34.028292</td>\n",
       "      <td>-81.093276</td>\n",
       "    </tr>\n",
       "    <tr>\n",
       "      <th>3</th>\n",
       "      <td>Quiznos</td>\n",
       "      <td>1595 N Peach Ave</td>\n",
       "      <td>Fresno</td>\n",
       "      <td>CA</td>\n",
       "      <td>93727</td>\n",
       "      <td>1.559455e+10</td>\n",
       "      <td>Fast Food</td>\n",
       "      <td>3.0</td>\n",
       "      <td>$</td>\n",
       "      <td>44.939642</td>\n",
       "      <td>-93.136030</td>\n",
       "    </tr>\n",
       "    <tr>\n",
       "      <th>4</th>\n",
       "      <td>Hobbit Cafe</td>\n",
       "      <td>2243 Richmond Ave</td>\n",
       "      <td>Houston</td>\n",
       "      <td>TX</td>\n",
       "      <td>77098</td>\n",
       "      <td>1.713527e+10</td>\n",
       "      <td>Breakfast &amp; Brunch</td>\n",
       "      <td>3.5</td>\n",
       "      <td>$$</td>\n",
       "      <td>40.115749</td>\n",
       "      <td>-83.089461</td>\n",
       "    </tr>\n",
       "  </tbody>\n",
       "</table>\n",
       "</div>"
      ],
      "text/plain": [
       "  restaurant_name                 address        city state zip_code  \\\n",
       "0     Blue Collar      6730 Biscayne Blvd       Miami    FL    33138   \n",
       "1   Atlantic No 5           605 W Main St  Louisville    KY    40202   \n",
       "2   Famous Dave's  17770 Southcenter Pkwy     Tukwila    WA    98188   \n",
       "3         Quiznos        1595 N Peach Ave      Fresno    CA    93727   \n",
       "4     Hobbit Cafe       2243 Richmond Ave     Houston    TX    77098   \n",
       "\n",
       "          phone            cuisine_type  rating price   latitude  longitude  \n",
       "0  1.305756e+10  American (Traditional)     4.0    $$  26.079674 -80.252222  \n",
       "1  1.502883e+10      Breakfast & Brunch     4.0    $$  25.750963 -80.258375  \n",
       "2  1.206631e+10                Barbeque     3.0    $$  34.028292 -81.093276  \n",
       "3  1.559455e+10               Fast Food     3.0     $  44.939642 -93.136030  \n",
       "4  1.713527e+10      Breakfast & Brunch     3.5    $$  40.115749 -83.089461  "
      ]
     },
     "execution_count": 4,
     "metadata": {},
     "output_type": "execute_result"
    }
   ],
   "source": [
    "#Examine header\n",
    "clean_no_index_df.head()"
   ]
  },
  {
   "cell_type": "code",
   "execution_count": 5,
   "metadata": {
    "collapsed": true
   },
   "outputs": [],
   "source": [
    "#Output clean test data to CSV [redundant - but do not delete]\n",
    "clean_no_index_df.to_csv(\"../CleanData/clean_test.csv\", index=False, header=True)\n"
   ]
  },
  {
   "cell_type": "code",
   "execution_count": 6,
   "metadata": {},
   "outputs": [
    {
     "name": "stdout",
     "output_type": "stream",
     "text": [
      "2018-03-24 01:50:39,496 INFO sqlalchemy.engine.base.Engine SELECT CAST('test plain returns' AS VARCHAR(60)) AS anon_1\n",
      "2018-03-24 01:50:39,497 INFO sqlalchemy.engine.base.Engine ()\n",
      "2018-03-24 01:50:39,502 INFO sqlalchemy.engine.base.Engine SELECT CAST('test unicode returns' AS VARCHAR(60)) AS anon_1\n",
      "2018-03-24 01:50:39,505 INFO sqlalchemy.engine.base.Engine ()\n"
     ]
    }
   ],
   "source": [
    "#Create engine\n",
    "engine = create_engine(\"sqlite:///../sqldata/clean_test_2.db\",echo=True) #Set echo=True for debugging\n",
    "inspector = inspect(engine)\n",
    "Base = declarative_base()\n"
   ]
  },
  {
   "cell_type": "code",
   "execution_count": 7,
   "metadata": {},
   "outputs": [
    {
     "name": "stdout",
     "output_type": "stream",
     "text": [
      "2018-03-24 01:50:39,991 INFO sqlalchemy.engine.base.Engine INSERT INTO vegetarian (restaurant_name, address, city, state, zip_code, phone, cuisine_type, rating, price, latitude, longitude) VALUES (?, ?, ?, ?, ?, ?, ?, ?, ?, ?, ?)\n",
      "2018-03-24 01:50:39,991 INFO sqlalchemy.engine.base.Engine (('Blue Collar', '6730 Biscayne Blvd', 'Miami', 'FL', '33138', 13057560366.0, 'American (Traditional)', 4.0, '$$', 26.07967414, -80.25222212), ('Atlantic No 5', '605 W Main St', 'Louisville', 'KY', '40202', 15028833398.0, 'Breakfast & Brunch', 4.0, '$$', 25.750963, -80.258375), (\"Famous Dave's\", '17770 Southcenter Pkwy', 'Tukwila', 'WA', '98188', 12066312000.0, 'Barbeque', 3.0, '$$', 34.02829213, -81.09327574), ('Quiznos', '1595 N Peach Ave', 'Fresno', 'CA', '93727', 15594548477.0, 'Fast Food', 3.0, '$', 44.939642, -93.13603), ('Hobbit Cafe', '2243 Richmond Ave', 'Houston', 'TX', '77098', 17135265460.0, 'Breakfast & Brunch', 3.5, '$$', 40.11574901, -83.08946112), ('Pizzeria 3301', '3301 W Canal St', 'Milwaukee', 'WI', '53208', 14144550347.0, 'Pizza', 3.5, '$', 29.713354, -95.504259), ('Pita Pit', '141 Township Ave', 'Ridgeland', 'MS', '39157', 16017909925.0, 'Sandwiches', 4.5, '$$', 41.8840684, -87.6412297), (\"P.F. Chang's\", '530 N Wabash Ave', 'Chicago', 'IL', '60611', 13128289977.0, 'Chinese', 3.0, '$$', 39.05737, -94.59787)  ... displaying 10 of 13194 total bound parameter sets ...  ('Smoothie King', '2315 Ponce De Leon Blvd', 'Coral Gables', 'FL', '33134', 13052005392.0, 'Juice Bars & Smoothies', 4.0, '$', 38.257374, -85.760051), ('Buca di Beppo Italian Restaurant', '3355 S University Dr', 'Davie', 'FL', '33328', 19545773287.0, 'Italian', 3.0, '$$', 25.83782, -80.184616))\n",
      "2018-03-24 01:50:40,057 INFO sqlalchemy.engine.base.Engine COMMIT\n"
     ]
    }
   ],
   "source": [
    "#clean_no_index.csv ---> dataframe ---> to_dict(orient='records') --> sqlite\n",
    "def populate(engine, table, csvfile):\n",
    "    conn = engine.connect()\n",
    "    df =pd.read_csv(csvfile,encoding='latin-1')\n",
    "    data = df.to_dict(orient='records')\n",
    "    conn.execute(table.insert(), data)\n",
    "\n",
    "#Establish class base\n",
    "class Vegetarian(Base):\n",
    "    __tablename__ = \"vegetarian\"\n",
    "    id = Column(Integer, primary_key=True)\n",
    "    restaurant_name = Column(String)\n",
    "    address = Column(String)\n",
    "    city = Column(String)\n",
    "    state = Column(String)\n",
    "    zip_code = Column(Integer)\n",
    "    phone = Column(Integer)\n",
    "    cuisine_type = Column(String)\n",
    "    rating = Column(String)\n",
    "    price = Column(String)\n",
    "    latitude = Column(Float)\n",
    "    longitude = Column(Float)\n",
    "    \n",
    "#run populate function on sqlite db\n",
    "populate(engine,Vegetarian.__table__,\"../CleanData/clean_test.csv\")"
   ]
  },
  {
   "cell_type": "code",
   "execution_count": 8,
   "metadata": {
    "scrolled": true
   },
   "outputs": [
    {
     "name": "stdout",
     "output_type": "stream",
     "text": [
      "2018-03-24 01:50:40,098 INFO sqlalchemy.engine.base.Engine PRAGMA table_info(\"vegetarian\")\n",
      "2018-03-24 01:50:40,104 INFO sqlalchemy.engine.base.Engine ()\n"
     ]
    }
   ],
   "source": [
    "conn = engine.connect()\n",
    "Base.metadata.create_all(engine)\n",
    "session = Session(bind=engine)\n",
    "\n",
    "#clean_no_index_df.to_sql('vegetarian', conn, if_exists='replace', index=False)"
   ]
  },
  {
   "cell_type": "code",
   "execution_count": 9,
   "metadata": {},
   "outputs": [
    {
     "name": "stdout",
     "output_type": "stream",
     "text": [
      "2018-03-24 01:50:40,120 INFO sqlalchemy.engine.base.Engine SELECT name FROM sqlite_master WHERE type='table' ORDER BY name\n",
      "2018-03-24 01:50:40,122 INFO sqlalchemy.engine.base.Engine ()\n",
      "['vegetarian']\n",
      "2018-03-24 01:50:40,135 INFO sqlalchemy.engine.base.Engine PRAGMA table_info([vegetarian]);\n",
      "2018-03-24 01:50:40,137 INFO sqlalchemy.engine.base.Engine ()\n",
      "(0, 'restaurant_name', 'TEXT', 0, None, 0)\n",
      "(1, 'address', 'TEXT', 0, None, 0)\n",
      "(2, 'city', 'TEXT', 0, None, 0)\n",
      "(3, 'state', 'TEXT', 0, None, 0)\n",
      "(4, 'zip_code', 'TEXT', 0, None, 0)\n",
      "(5, 'phone', 'FLOAT', 0, None, 0)\n",
      "(6, 'cuisine_type', 'TEXT', 0, None, 0)\n",
      "(7, 'rating', 'FLOAT', 0, None, 0)\n",
      "(8, 'price', 'TEXT', 0, None, 0)\n",
      "(9, 'latitude', 'FLOAT', 0, None, 0)\n",
      "(10, 'longitude', 'FLOAT', 0, None, 0)\n"
     ]
    }
   ],
   "source": [
    "#Verify table creation with inspector + verify table information:\n",
    "print(inspector.get_table_names())\n",
    "data = engine.execute(\"PRAGMA table_info([vegetarian]);\")\n",
    "for item in data:\n",
    "    print(item)"
   ]
  },
  {
   "cell_type": "code",
   "execution_count": null,
   "metadata": {},
   "outputs": [],
   "source": [
    "#columns = inspector.get_columns('vegetarian')\n",
    "#print(\"Column names:\")\n",
    "#for c in columns:\n",
    "    #print(c['name'])\n",
    "#print(\"========================\")\n",
    "#print (columns)"
   ]
  },
  {
   "cell_type": "code",
   "execution_count": 15,
   "metadata": {},
   "outputs": [
    {
     "name": "stdout",
     "output_type": "stream",
     "text": [
      "2018-03-24 02:05:17,608 INFO sqlalchemy.engine.base.Engine PRAGMA table_info(\"vegetarian\")\n",
      "2018-03-24 02:05:17,610 INFO sqlalchemy.engine.base.Engine ()\n"
     ]
    }
   ],
   "source": [
    "Base.metadata.create_all(engine)\n",
    "session.commit()"
   ]
  },
  {
   "cell_type": "code",
   "execution_count": null,
   "metadata": {
    "scrolled": true
   },
   "outputs": [],
   "source": []
  },
  {
   "cell_type": "code",
   "execution_count": null,
   "metadata": {},
   "outputs": [],
   "source": [
    "\n"
   ]
  },
  {
   "cell_type": "code",
   "execution_count": null,
   "metadata": {
    "collapsed": true
   },
   "outputs": [],
   "source": []
  },
  {
   "cell_type": "code",
   "execution_count": null,
   "metadata": {},
   "outputs": [],
   "source": []
  },
  {
   "cell_type": "code",
   "execution_count": 12,
   "metadata": {},
   "outputs": [
    {
     "name": "stdout",
     "output_type": "stream",
     "text": [
      "2018-03-24 01:50:40,176 INFO sqlalchemy.engine.base.Engine PRAGMA table_info([vegetarian]);\n",
      "2018-03-24 01:50:40,178 INFO sqlalchemy.engine.base.Engine ()\n",
      "(0, 'restaurant_name', 'TEXT', 0, None, 0)\n",
      "(1, 'address', 'TEXT', 0, None, 0)\n",
      "(2, 'city', 'TEXT', 0, None, 0)\n",
      "(3, 'state', 'TEXT', 0, None, 0)\n",
      "(4, 'zip_code', 'TEXT', 0, None, 0)\n",
      "(5, 'phone', 'FLOAT', 0, None, 0)\n",
      "(6, 'cuisine_type', 'TEXT', 0, None, 0)\n",
      "(7, 'rating', 'FLOAT', 0, None, 0)\n",
      "(8, 'price', 'TEXT', 0, None, 0)\n",
      "(9, 'latitude', 'FLOAT', 0, None, 0)\n",
      "(10, 'longitude', 'FLOAT', 0, None, 0)\n"
     ]
    }
   ],
   "source": [
    "#verify table information + column properties:\n",
    "data = engine.execute(\"PRAGMA table_info([vegetarian]);\")\n",
    "for item in data:\n",
    "    print(item)"
   ]
  },
  {
   "cell_type": "code",
   "execution_count": 13,
   "metadata": {},
   "outputs": [
    {
     "name": "stdout",
     "output_type": "stream",
     "text": [
      "2018-03-24 01:50:40,192 INFO sqlalchemy.engine.base.Engine PRAGMA table_info(\"vegetarian\")\n",
      "2018-03-24 01:50:40,193 INFO sqlalchemy.engine.base.Engine ()\n"
     ]
    }
   ],
   "source": [
    "Base.metadata.create_all(engine)\n",
    "session.commit()"
   ]
  },
  {
   "cell_type": "code",
   "execution_count": 20,
   "metadata": {},
   "outputs": [
    {
     "name": "stdout",
     "output_type": "stream",
     "text": [
      "2018-03-24 02:06:27,244 INFO sqlalchemy.engine.base.Engine SELECT vegetarian.id AS vegetarian_id, vegetarian.restaurant_name AS vegetarian_restaurant_name, vegetarian.address AS vegetarian_address, vegetarian.city AS vegetarian_city, vegetarian.state AS vegetarian_state, vegetarian.zip_code AS vegetarian_zip_code, vegetarian.phone AS vegetarian_phone, vegetarian.cuisine_type AS vegetarian_cuisine_type, vegetarian.rating AS vegetarian_rating, vegetarian.price AS vegetarian_price, vegetarian.latitude AS vegetarian_latitude, vegetarian.longitude AS vegetarian_longitude \n",
      "FROM vegetarian\n",
      "2018-03-24 02:06:27,246 INFO sqlalchemy.engine.base.Engine ()\n"
     ]
    },
    {
     "ename": "OperationalError",
     "evalue": "(sqlite3.OperationalError) no such column: vegetarian.id [SQL: 'SELECT vegetarian.id AS vegetarian_id, vegetarian.restaurant_name AS vegetarian_restaurant_name, vegetarian.address AS vegetarian_address, vegetarian.city AS vegetarian_city, vegetarian.state AS vegetarian_state, vegetarian.zip_code AS vegetarian_zip_code, vegetarian.phone AS vegetarian_phone, vegetarian.cuisine_type AS vegetarian_cuisine_type, vegetarian.rating AS vegetarian_rating, vegetarian.price AS vegetarian_price, vegetarian.latitude AS vegetarian_latitude, vegetarian.longitude AS vegetarian_longitude \\nFROM vegetarian']",
     "output_type": "error",
     "traceback": [
      "\u001b[1;31m--------------------------------------------\u001b[0m",
      "\u001b[1;31mOperationalError\u001b[0mTraceback (most recent call last)",
      "\u001b[1;32mC:\\Users\\tyu-dev\\Anaconda3\\envs\\pythondata\\lib\\site-packages\\sqlalchemy\\engine\\base.py\u001b[0m in \u001b[0;36m_execute_context\u001b[1;34m(self, dialect, constructor, statement, parameters, *args)\u001b[0m\n\u001b[0;32m   1181\u001b[0m                         \u001b[0mparameters\u001b[0m\u001b[1;33m,\u001b[0m\u001b[1;33m\u001b[0m\u001b[0m\n\u001b[1;32m-> 1182\u001b[1;33m                         context)\n\u001b[0m\u001b[0;32m   1183\u001b[0m         \u001b[1;32mexcept\u001b[0m \u001b[0mBaseException\u001b[0m \u001b[1;32mas\u001b[0m \u001b[0me\u001b[0m\u001b[1;33m:\u001b[0m\u001b[1;33m\u001b[0m\u001b[0m\n",
      "\u001b[1;32mC:\\Users\\tyu-dev\\Anaconda3\\envs\\pythondata\\lib\\site-packages\\sqlalchemy\\engine\\default.py\u001b[0m in \u001b[0;36mdo_execute\u001b[1;34m(self, cursor, statement, parameters, context)\u001b[0m\n\u001b[0;32m    469\u001b[0m     \u001b[1;32mdef\u001b[0m \u001b[0mdo_execute\u001b[0m\u001b[1;33m(\u001b[0m\u001b[0mself\u001b[0m\u001b[1;33m,\u001b[0m \u001b[0mcursor\u001b[0m\u001b[1;33m,\u001b[0m \u001b[0mstatement\u001b[0m\u001b[1;33m,\u001b[0m \u001b[0mparameters\u001b[0m\u001b[1;33m,\u001b[0m \u001b[0mcontext\u001b[0m\u001b[1;33m=\u001b[0m\u001b[1;32mNone\u001b[0m\u001b[1;33m)\u001b[0m\u001b[1;33m:\u001b[0m\u001b[1;33m\u001b[0m\u001b[0m\n\u001b[1;32m--> 470\u001b[1;33m         \u001b[0mcursor\u001b[0m\u001b[1;33m.\u001b[0m\u001b[0mexecute\u001b[0m\u001b[1;33m(\u001b[0m\u001b[0mstatement\u001b[0m\u001b[1;33m,\u001b[0m \u001b[0mparameters\u001b[0m\u001b[1;33m)\u001b[0m\u001b[1;33m\u001b[0m\u001b[0m\n\u001b[0m\u001b[0;32m    471\u001b[0m \u001b[1;33m\u001b[0m\u001b[0m\n",
      "\u001b[1;31mOperationalError\u001b[0m: no such column: vegetarian.id",
      "\nThe above exception was the direct cause of the following exception:\n",
      "\u001b[1;31mOperationalError\u001b[0mTraceback (most recent call last)",
      "\u001b[1;32m<ipython-input-20-242e6a8f4b49>\u001b[0m in \u001b[0;36m<module>\u001b[1;34m()\u001b[0m\n\u001b[0;32m      1\u001b[0m \u001b[1;31m## Display the row's columns and data in dictionary format\u001b[0m\u001b[1;33m\u001b[0m\u001b[1;33m\u001b[0m\u001b[0m\n\u001b[1;32m----> 2\u001b[1;33m \u001b[0mfirst_row\u001b[0m \u001b[1;33m=\u001b[0m \u001b[0msession\u001b[0m\u001b[1;33m.\u001b[0m\u001b[0mquery\u001b[0m\u001b[1;33m(\u001b[0m\u001b[0mVegetarian\u001b[0m\u001b[1;33m)\u001b[0m\u001b[1;33m.\u001b[0m\u001b[0mall\u001b[0m\u001b[1;33m(\u001b[0m\u001b[1;33m)\u001b[0m\u001b[1;33m\u001b[0m\u001b[0m\n\u001b[0m\u001b[0;32m      3\u001b[0m \u001b[0mfirst_row\u001b[0m\u001b[1;33m.\u001b[0m\u001b[0m__dict__\u001b[0m\u001b[1;33m\u001b[0m\u001b[0m\n",
      "\u001b[1;32mC:\\Users\\tyu-dev\\Anaconda3\\envs\\pythondata\\lib\\site-packages\\sqlalchemy\\orm\\query.py\u001b[0m in \u001b[0;36mall\u001b[1;34m(self)\u001b[0m\n\u001b[0;32m   2701\u001b[0m \u001b[1;33m\u001b[0m\u001b[0m\n\u001b[0;32m   2702\u001b[0m         \"\"\"\n\u001b[1;32m-> 2703\u001b[1;33m         \u001b[1;32mreturn\u001b[0m \u001b[0mlist\u001b[0m\u001b[1;33m(\u001b[0m\u001b[0mself\u001b[0m\u001b[1;33m)\u001b[0m\u001b[1;33m\u001b[0m\u001b[0m\n\u001b[0m\u001b[0;32m   2704\u001b[0m \u001b[1;33m\u001b[0m\u001b[0m\n\u001b[0;32m   2705\u001b[0m     \u001b[1;33m@\u001b[0m\u001b[0m_generative\u001b[0m\u001b[1;33m(\u001b[0m\u001b[0m_no_clauseelement_condition\u001b[0m\u001b[1;33m)\u001b[0m\u001b[1;33m\u001b[0m\u001b[0m\n",
      "\u001b[1;32mC:\\Users\\tyu-dev\\Anaconda3\\envs\\pythondata\\lib\\site-packages\\sqlalchemy\\orm\\query.py\u001b[0m in \u001b[0;36m__iter__\u001b[1;34m(self)\u001b[0m\n\u001b[0;32m   2853\u001b[0m         \u001b[1;32mif\u001b[0m \u001b[0mself\u001b[0m\u001b[1;33m.\u001b[0m\u001b[0m_autoflush\u001b[0m \u001b[1;32mand\u001b[0m \u001b[1;32mnot\u001b[0m \u001b[0mself\u001b[0m\u001b[1;33m.\u001b[0m\u001b[0m_populate_existing\u001b[0m\u001b[1;33m:\u001b[0m\u001b[1;33m\u001b[0m\u001b[0m\n\u001b[0;32m   2854\u001b[0m             \u001b[0mself\u001b[0m\u001b[1;33m.\u001b[0m\u001b[0msession\u001b[0m\u001b[1;33m.\u001b[0m\u001b[0m_autoflush\u001b[0m\u001b[1;33m(\u001b[0m\u001b[1;33m)\u001b[0m\u001b[1;33m\u001b[0m\u001b[0m\n\u001b[1;32m-> 2855\u001b[1;33m         \u001b[1;32mreturn\u001b[0m \u001b[0mself\u001b[0m\u001b[1;33m.\u001b[0m\u001b[0m_execute_and_instances\u001b[0m\u001b[1;33m(\u001b[0m\u001b[0mcontext\u001b[0m\u001b[1;33m)\u001b[0m\u001b[1;33m\u001b[0m\u001b[0m\n\u001b[0m\u001b[0;32m   2856\u001b[0m \u001b[1;33m\u001b[0m\u001b[0m\n\u001b[0;32m   2857\u001b[0m     \u001b[1;32mdef\u001b[0m \u001b[0m__str__\u001b[0m\u001b[1;33m(\u001b[0m\u001b[0mself\u001b[0m\u001b[1;33m)\u001b[0m\u001b[1;33m:\u001b[0m\u001b[1;33m\u001b[0m\u001b[0m\n",
      "\u001b[1;32mC:\\Users\\tyu-dev\\Anaconda3\\envs\\pythondata\\lib\\site-packages\\sqlalchemy\\orm\\query.py\u001b[0m in \u001b[0;36m_execute_and_instances\u001b[1;34m(self, querycontext)\u001b[0m\n\u001b[0;32m   2876\u001b[0m             close_with_result=True)\n\u001b[0;32m   2877\u001b[0m \u001b[1;33m\u001b[0m\u001b[0m\n\u001b[1;32m-> 2878\u001b[1;33m         \u001b[0mresult\u001b[0m \u001b[1;33m=\u001b[0m \u001b[0mconn\u001b[0m\u001b[1;33m.\u001b[0m\u001b[0mexecute\u001b[0m\u001b[1;33m(\u001b[0m\u001b[0mquerycontext\u001b[0m\u001b[1;33m.\u001b[0m\u001b[0mstatement\u001b[0m\u001b[1;33m,\u001b[0m \u001b[0mself\u001b[0m\u001b[1;33m.\u001b[0m\u001b[0m_params\u001b[0m\u001b[1;33m)\u001b[0m\u001b[1;33m\u001b[0m\u001b[0m\n\u001b[0m\u001b[0;32m   2879\u001b[0m         \u001b[1;32mreturn\u001b[0m \u001b[0mloading\u001b[0m\u001b[1;33m.\u001b[0m\u001b[0minstances\u001b[0m\u001b[1;33m(\u001b[0m\u001b[0mquerycontext\u001b[0m\u001b[1;33m.\u001b[0m\u001b[0mquery\u001b[0m\u001b[1;33m,\u001b[0m \u001b[0mresult\u001b[0m\u001b[1;33m,\u001b[0m \u001b[0mquerycontext\u001b[0m\u001b[1;33m)\u001b[0m\u001b[1;33m\u001b[0m\u001b[0m\n\u001b[0;32m   2880\u001b[0m \u001b[1;33m\u001b[0m\u001b[0m\n",
      "\u001b[1;32mC:\\Users\\tyu-dev\\Anaconda3\\envs\\pythondata\\lib\\site-packages\\sqlalchemy\\engine\\base.py\u001b[0m in \u001b[0;36mexecute\u001b[1;34m(self, object, *multiparams, **params)\u001b[0m\n\u001b[0;32m    943\u001b[0m             \u001b[1;32mraise\u001b[0m \u001b[0mexc\u001b[0m\u001b[1;33m.\u001b[0m\u001b[0mObjectNotExecutableError\u001b[0m\u001b[1;33m(\u001b[0m\u001b[0mobject\u001b[0m\u001b[1;33m)\u001b[0m\u001b[1;33m\u001b[0m\u001b[0m\n\u001b[0;32m    944\u001b[0m         \u001b[1;32melse\u001b[0m\u001b[1;33m:\u001b[0m\u001b[1;33m\u001b[0m\u001b[0m\n\u001b[1;32m--> 945\u001b[1;33m             \u001b[1;32mreturn\u001b[0m \u001b[0mmeth\u001b[0m\u001b[1;33m(\u001b[0m\u001b[0mself\u001b[0m\u001b[1;33m,\u001b[0m \u001b[0mmultiparams\u001b[0m\u001b[1;33m,\u001b[0m \u001b[0mparams\u001b[0m\u001b[1;33m)\u001b[0m\u001b[1;33m\u001b[0m\u001b[0m\n\u001b[0m\u001b[0;32m    946\u001b[0m \u001b[1;33m\u001b[0m\u001b[0m\n\u001b[0;32m    947\u001b[0m     \u001b[1;32mdef\u001b[0m \u001b[0m_execute_function\u001b[0m\u001b[1;33m(\u001b[0m\u001b[0mself\u001b[0m\u001b[1;33m,\u001b[0m \u001b[0mfunc\u001b[0m\u001b[1;33m,\u001b[0m \u001b[0mmultiparams\u001b[0m\u001b[1;33m,\u001b[0m \u001b[0mparams\u001b[0m\u001b[1;33m)\u001b[0m\u001b[1;33m:\u001b[0m\u001b[1;33m\u001b[0m\u001b[0m\n",
      "\u001b[1;32mC:\\Users\\tyu-dev\\Anaconda3\\envs\\pythondata\\lib\\site-packages\\sqlalchemy\\sql\\elements.py\u001b[0m in \u001b[0;36m_execute_on_connection\u001b[1;34m(self, connection, multiparams, params)\u001b[0m\n\u001b[0;32m    261\u001b[0m     \u001b[1;32mdef\u001b[0m \u001b[0m_execute_on_connection\u001b[0m\u001b[1;33m(\u001b[0m\u001b[0mself\u001b[0m\u001b[1;33m,\u001b[0m \u001b[0mconnection\u001b[0m\u001b[1;33m,\u001b[0m \u001b[0mmultiparams\u001b[0m\u001b[1;33m,\u001b[0m \u001b[0mparams\u001b[0m\u001b[1;33m)\u001b[0m\u001b[1;33m:\u001b[0m\u001b[1;33m\u001b[0m\u001b[0m\n\u001b[0;32m    262\u001b[0m         \u001b[1;32mif\u001b[0m \u001b[0mself\u001b[0m\u001b[1;33m.\u001b[0m\u001b[0msupports_execution\u001b[0m\u001b[1;33m:\u001b[0m\u001b[1;33m\u001b[0m\u001b[0m\n\u001b[1;32m--> 263\u001b[1;33m             \u001b[1;32mreturn\u001b[0m \u001b[0mconnection\u001b[0m\u001b[1;33m.\u001b[0m\u001b[0m_execute_clauseelement\u001b[0m\u001b[1;33m(\u001b[0m\u001b[0mself\u001b[0m\u001b[1;33m,\u001b[0m \u001b[0mmultiparams\u001b[0m\u001b[1;33m,\u001b[0m \u001b[0mparams\u001b[0m\u001b[1;33m)\u001b[0m\u001b[1;33m\u001b[0m\u001b[0m\n\u001b[0m\u001b[0;32m    264\u001b[0m         \u001b[1;32melse\u001b[0m\u001b[1;33m:\u001b[0m\u001b[1;33m\u001b[0m\u001b[0m\n\u001b[0;32m    265\u001b[0m             \u001b[1;32mraise\u001b[0m \u001b[0mexc\u001b[0m\u001b[1;33m.\u001b[0m\u001b[0mObjectNotExecutableError\u001b[0m\u001b[1;33m(\u001b[0m\u001b[0mself\u001b[0m\u001b[1;33m)\u001b[0m\u001b[1;33m\u001b[0m\u001b[0m\n",
      "\u001b[1;32mC:\\Users\\tyu-dev\\Anaconda3\\envs\\pythondata\\lib\\site-packages\\sqlalchemy\\engine\\base.py\u001b[0m in \u001b[0;36m_execute_clauseelement\u001b[1;34m(self, elem, multiparams, params)\u001b[0m\n\u001b[0;32m   1051\u001b[0m             \u001b[0mcompiled_sql\u001b[0m\u001b[1;33m,\u001b[0m\u001b[1;33m\u001b[0m\u001b[0m\n\u001b[0;32m   1052\u001b[0m             \u001b[0mdistilled_params\u001b[0m\u001b[1;33m,\u001b[0m\u001b[1;33m\u001b[0m\u001b[0m\n\u001b[1;32m-> 1053\u001b[1;33m             \u001b[0mcompiled_sql\u001b[0m\u001b[1;33m,\u001b[0m \u001b[0mdistilled_params\u001b[0m\u001b[1;33m\u001b[0m\u001b[0m\n\u001b[0m\u001b[0;32m   1054\u001b[0m         )\n\u001b[0;32m   1055\u001b[0m         \u001b[1;32mif\u001b[0m \u001b[0mself\u001b[0m\u001b[1;33m.\u001b[0m\u001b[0m_has_events\u001b[0m \u001b[1;32mor\u001b[0m \u001b[0mself\u001b[0m\u001b[1;33m.\u001b[0m\u001b[0mengine\u001b[0m\u001b[1;33m.\u001b[0m\u001b[0m_has_events\u001b[0m\u001b[1;33m:\u001b[0m\u001b[1;33m\u001b[0m\u001b[0m\n",
      "\u001b[1;32mC:\\Users\\tyu-dev\\Anaconda3\\envs\\pythondata\\lib\\site-packages\\sqlalchemy\\engine\\base.py\u001b[0m in \u001b[0;36m_execute_context\u001b[1;34m(self, dialect, constructor, statement, parameters, *args)\u001b[0m\n\u001b[0;32m   1187\u001b[0m                 \u001b[0mparameters\u001b[0m\u001b[1;33m,\u001b[0m\u001b[1;33m\u001b[0m\u001b[0m\n\u001b[0;32m   1188\u001b[0m                 \u001b[0mcursor\u001b[0m\u001b[1;33m,\u001b[0m\u001b[1;33m\u001b[0m\u001b[0m\n\u001b[1;32m-> 1189\u001b[1;33m                 context)\n\u001b[0m\u001b[0;32m   1190\u001b[0m \u001b[1;33m\u001b[0m\u001b[0m\n\u001b[0;32m   1191\u001b[0m         \u001b[1;32mif\u001b[0m \u001b[0mself\u001b[0m\u001b[1;33m.\u001b[0m\u001b[0m_has_events\u001b[0m \u001b[1;32mor\u001b[0m \u001b[0mself\u001b[0m\u001b[1;33m.\u001b[0m\u001b[0mengine\u001b[0m\u001b[1;33m.\u001b[0m\u001b[0m_has_events\u001b[0m\u001b[1;33m:\u001b[0m\u001b[1;33m\u001b[0m\u001b[0m\n",
      "\u001b[1;32mC:\\Users\\tyu-dev\\Anaconda3\\envs\\pythondata\\lib\\site-packages\\sqlalchemy\\engine\\base.py\u001b[0m in \u001b[0;36m_handle_dbapi_exception\u001b[1;34m(self, e, statement, parameters, cursor, context)\u001b[0m\n\u001b[0;32m   1400\u001b[0m                 util.raise_from_cause(\n\u001b[0;32m   1401\u001b[0m                     \u001b[0msqlalchemy_exception\u001b[0m\u001b[1;33m,\u001b[0m\u001b[1;33m\u001b[0m\u001b[0m\n\u001b[1;32m-> 1402\u001b[1;33m                     \u001b[0mexc_info\u001b[0m\u001b[1;33m\u001b[0m\u001b[0m\n\u001b[0m\u001b[0;32m   1403\u001b[0m                 )\n\u001b[0;32m   1404\u001b[0m             \u001b[1;32melse\u001b[0m\u001b[1;33m:\u001b[0m\u001b[1;33m\u001b[0m\u001b[0m\n",
      "\u001b[1;32mC:\\Users\\tyu-dev\\Anaconda3\\envs\\pythondata\\lib\\site-packages\\sqlalchemy\\util\\compat.py\u001b[0m in \u001b[0;36mraise_from_cause\u001b[1;34m(exception, exc_info)\u001b[0m\n\u001b[0;32m    201\u001b[0m     \u001b[0mexc_type\u001b[0m\u001b[1;33m,\u001b[0m \u001b[0mexc_value\u001b[0m\u001b[1;33m,\u001b[0m \u001b[0mexc_tb\u001b[0m \u001b[1;33m=\u001b[0m \u001b[0mexc_info\u001b[0m\u001b[1;33m\u001b[0m\u001b[0m\n\u001b[0;32m    202\u001b[0m     \u001b[0mcause\u001b[0m \u001b[1;33m=\u001b[0m \u001b[0mexc_value\u001b[0m \u001b[1;32mif\u001b[0m \u001b[0mexc_value\u001b[0m \u001b[1;32mis\u001b[0m \u001b[1;32mnot\u001b[0m \u001b[0mexception\u001b[0m \u001b[1;32melse\u001b[0m \u001b[1;32mNone\u001b[0m\u001b[1;33m\u001b[0m\u001b[0m\n\u001b[1;32m--> 203\u001b[1;33m     \u001b[0mreraise\u001b[0m\u001b[1;33m(\u001b[0m\u001b[0mtype\u001b[0m\u001b[1;33m(\u001b[0m\u001b[0mexception\u001b[0m\u001b[1;33m)\u001b[0m\u001b[1;33m,\u001b[0m \u001b[0mexception\u001b[0m\u001b[1;33m,\u001b[0m \u001b[0mtb\u001b[0m\u001b[1;33m=\u001b[0m\u001b[0mexc_tb\u001b[0m\u001b[1;33m,\u001b[0m \u001b[0mcause\u001b[0m\u001b[1;33m=\u001b[0m\u001b[0mcause\u001b[0m\u001b[1;33m)\u001b[0m\u001b[1;33m\u001b[0m\u001b[0m\n\u001b[0m\u001b[0;32m    204\u001b[0m \u001b[1;33m\u001b[0m\u001b[0m\n\u001b[0;32m    205\u001b[0m \u001b[1;32mif\u001b[0m \u001b[0mpy3k\u001b[0m\u001b[1;33m:\u001b[0m\u001b[1;33m\u001b[0m\u001b[0m\n",
      "\u001b[1;32mC:\\Users\\tyu-dev\\Anaconda3\\envs\\pythondata\\lib\\site-packages\\sqlalchemy\\util\\compat.py\u001b[0m in \u001b[0;36mreraise\u001b[1;34m(tp, value, tb, cause)\u001b[0m\n\u001b[0;32m    184\u001b[0m             \u001b[0mvalue\u001b[0m\u001b[1;33m.\u001b[0m\u001b[0m__cause__\u001b[0m \u001b[1;33m=\u001b[0m \u001b[0mcause\u001b[0m\u001b[1;33m\u001b[0m\u001b[0m\n\u001b[0;32m    185\u001b[0m         \u001b[1;32mif\u001b[0m \u001b[0mvalue\u001b[0m\u001b[1;33m.\u001b[0m\u001b[0m__traceback__\u001b[0m \u001b[1;32mis\u001b[0m \u001b[1;32mnot\u001b[0m \u001b[0mtb\u001b[0m\u001b[1;33m:\u001b[0m\u001b[1;33m\u001b[0m\u001b[0m\n\u001b[1;32m--> 186\u001b[1;33m             \u001b[1;32mraise\u001b[0m \u001b[0mvalue\u001b[0m\u001b[1;33m.\u001b[0m\u001b[0mwith_traceback\u001b[0m\u001b[1;33m(\u001b[0m\u001b[0mtb\u001b[0m\u001b[1;33m)\u001b[0m\u001b[1;33m\u001b[0m\u001b[0m\n\u001b[0m\u001b[0;32m    187\u001b[0m         \u001b[1;32mraise\u001b[0m \u001b[0mvalue\u001b[0m\u001b[1;33m\u001b[0m\u001b[0m\n\u001b[0;32m    188\u001b[0m \u001b[1;33m\u001b[0m\u001b[0m\n",
      "\u001b[1;32mC:\\Users\\tyu-dev\\Anaconda3\\envs\\pythondata\\lib\\site-packages\\sqlalchemy\\engine\\base.py\u001b[0m in \u001b[0;36m_execute_context\u001b[1;34m(self, dialect, constructor, statement, parameters, *args)\u001b[0m\n\u001b[0;32m   1180\u001b[0m                         \u001b[0mstatement\u001b[0m\u001b[1;33m,\u001b[0m\u001b[1;33m\u001b[0m\u001b[0m\n\u001b[0;32m   1181\u001b[0m                         \u001b[0mparameters\u001b[0m\u001b[1;33m,\u001b[0m\u001b[1;33m\u001b[0m\u001b[0m\n\u001b[1;32m-> 1182\u001b[1;33m                         context)\n\u001b[0m\u001b[0;32m   1183\u001b[0m         \u001b[1;32mexcept\u001b[0m \u001b[0mBaseException\u001b[0m \u001b[1;32mas\u001b[0m \u001b[0me\u001b[0m\u001b[1;33m:\u001b[0m\u001b[1;33m\u001b[0m\u001b[0m\n\u001b[0;32m   1184\u001b[0m             self._handle_dbapi_exception(\n",
      "\u001b[1;32mC:\\Users\\tyu-dev\\Anaconda3\\envs\\pythondata\\lib\\site-packages\\sqlalchemy\\engine\\default.py\u001b[0m in \u001b[0;36mdo_execute\u001b[1;34m(self, cursor, statement, parameters, context)\u001b[0m\n\u001b[0;32m    468\u001b[0m \u001b[1;33m\u001b[0m\u001b[0m\n\u001b[0;32m    469\u001b[0m     \u001b[1;32mdef\u001b[0m \u001b[0mdo_execute\u001b[0m\u001b[1;33m(\u001b[0m\u001b[0mself\u001b[0m\u001b[1;33m,\u001b[0m \u001b[0mcursor\u001b[0m\u001b[1;33m,\u001b[0m \u001b[0mstatement\u001b[0m\u001b[1;33m,\u001b[0m \u001b[0mparameters\u001b[0m\u001b[1;33m,\u001b[0m \u001b[0mcontext\u001b[0m\u001b[1;33m=\u001b[0m\u001b[1;32mNone\u001b[0m\u001b[1;33m)\u001b[0m\u001b[1;33m:\u001b[0m\u001b[1;33m\u001b[0m\u001b[0m\n\u001b[1;32m--> 470\u001b[1;33m         \u001b[0mcursor\u001b[0m\u001b[1;33m.\u001b[0m\u001b[0mexecute\u001b[0m\u001b[1;33m(\u001b[0m\u001b[0mstatement\u001b[0m\u001b[1;33m,\u001b[0m \u001b[0mparameters\u001b[0m\u001b[1;33m)\u001b[0m\u001b[1;33m\u001b[0m\u001b[0m\n\u001b[0m\u001b[0;32m    471\u001b[0m \u001b[1;33m\u001b[0m\u001b[0m\n\u001b[0;32m    472\u001b[0m     \u001b[1;32mdef\u001b[0m \u001b[0mdo_execute_no_params\u001b[0m\u001b[1;33m(\u001b[0m\u001b[0mself\u001b[0m\u001b[1;33m,\u001b[0m \u001b[0mcursor\u001b[0m\u001b[1;33m,\u001b[0m \u001b[0mstatement\u001b[0m\u001b[1;33m,\u001b[0m \u001b[0mcontext\u001b[0m\u001b[1;33m=\u001b[0m\u001b[1;32mNone\u001b[0m\u001b[1;33m)\u001b[0m\u001b[1;33m:\u001b[0m\u001b[1;33m\u001b[0m\u001b[0m\n",
      "\u001b[1;31mOperationalError\u001b[0m: (sqlite3.OperationalError) no such column: vegetarian.id [SQL: 'SELECT vegetarian.id AS vegetarian_id, vegetarian.restaurant_name AS vegetarian_restaurant_name, vegetarian.address AS vegetarian_address, vegetarian.city AS vegetarian_city, vegetarian.state AS vegetarian_state, vegetarian.zip_code AS vegetarian_zip_code, vegetarian.phone AS vegetarian_phone, vegetarian.cuisine_type AS vegetarian_cuisine_type, vegetarian.rating AS vegetarian_rating, vegetarian.price AS vegetarian_price, vegetarian.latitude AS vegetarian_latitude, vegetarian.longitude AS vegetarian_longitude \\nFROM vegetarian']"
     ]
    }
   ],
   "source": [
    "## Display the row's columns and data in dictionary format\n",
    "first_row = session.query(Vegetarian).all()\n",
    "first_row.__dict__"
   ]
  },
  {
   "cell_type": "code",
   "execution_count": null,
   "metadata": {
    "collapsed": true
   },
   "outputs": [],
   "source": []
  }
 ],
 "metadata": {
  "kernelspec": {
   "display_name": "Python 3",
   "language": "python",
   "name": "python3"
  },
  "language_info": {
   "codemirror_mode": {
    "name": "ipython",
    "version": 3
   },
   "file_extension": ".py",
   "mimetype": "text/x-python",
   "name": "python",
   "nbconvert_exporter": "python",
   "pygments_lexer": "ipython3",
   "version": "3.6.1"
  }
 },
 "nbformat": 4,
 "nbformat_minor": 2
}
