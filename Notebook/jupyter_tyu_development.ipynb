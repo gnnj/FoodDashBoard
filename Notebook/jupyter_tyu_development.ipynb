{
 "cells": [
  {
   "cell_type": "code",
   "execution_count": 1,
   "metadata": {
    "collapsed": true
   },
   "outputs": [],
   "source": [
    "#Imports\n",
    "import pandas as pd\n",
    "from datetime import datetime\n",
    "import csv\n",
    "\n",
    "#Sqlalchemy imports\n",
    "from sqlalchemy import Column, Float, Integer, String, DateTime\n",
    "from sqlalchemy.ext.declarative import declarative_base\n",
    "from sqlalchemy.ext.automap import automap_base\n",
    "from sqlalchemy.orm import Session\n",
    "from sqlalchemy import create_engine,inspect,func\n",
    "# Flask imports\n",
    "from flask import Flask, jsonify, render_template"
   ]
  },
  {
   "cell_type": "code",
   "execution_count": 2,
   "metadata": {},
   "outputs": [
    {
     "name": "stdout",
     "output_type": "stream",
     "text": [
      "2018-03-24 00:07:06,382 INFO sqlalchemy.engine.base.Engine SELECT CAST('test plain returns' AS VARCHAR(60)) AS anon_1\n",
      "2018-03-24 00:07:06,395 INFO sqlalchemy.engine.base.Engine ()\n",
      "2018-03-24 00:07:06,399 INFO sqlalchemy.engine.base.Engine SELECT CAST('test unicode returns' AS VARCHAR(60)) AS anon_1\n",
      "2018-03-24 00:07:06,404 INFO sqlalchemy.engine.base.Engine ()\n",
      "2018-03-24 00:07:06,411 INFO sqlalchemy.engine.base.Engine SELECT name FROM sqlite_master WHERE type='table' ORDER BY name\n",
      "2018-03-24 00:07:06,413 INFO sqlalchemy.engine.base.Engine ()\n",
      "2018-03-24 00:07:06,416 INFO sqlalchemy.engine.base.Engine PRAGMA table_info(\"vegetarian\")\n",
      "2018-03-24 00:07:06,418 INFO sqlalchemy.engine.base.Engine ()\n",
      "2018-03-24 00:07:06,421 INFO sqlalchemy.engine.base.Engine SELECT sql FROM  (SELECT * FROM sqlite_master UNION ALL   SELECT * FROM sqlite_temp_master) WHERE name = 'vegetarian' AND type = 'table'\n",
      "2018-03-24 00:07:06,422 INFO sqlalchemy.engine.base.Engine ()\n",
      "2018-03-24 00:07:06,427 INFO sqlalchemy.engine.base.Engine PRAGMA foreign_key_list(\"vegetarian\")\n",
      "2018-03-24 00:07:06,428 INFO sqlalchemy.engine.base.Engine ()\n",
      "2018-03-24 00:07:06,430 INFO sqlalchemy.engine.base.Engine SELECT sql FROM  (SELECT * FROM sqlite_master UNION ALL   SELECT * FROM sqlite_temp_master) WHERE name = 'vegetarian' AND type = 'table'\n",
      "2018-03-24 00:07:06,433 INFO sqlalchemy.engine.base.Engine ()\n",
      "2018-03-24 00:07:06,439 INFO sqlalchemy.engine.base.Engine PRAGMA index_list(\"vegetarian\")\n",
      "2018-03-24 00:07:06,441 INFO sqlalchemy.engine.base.Engine ()\n",
      "2018-03-24 00:07:06,444 INFO sqlalchemy.engine.base.Engine PRAGMA index_list(\"vegetarian\")\n",
      "2018-03-24 00:07:06,446 INFO sqlalchemy.engine.base.Engine ()\n",
      "2018-03-24 00:07:06,448 INFO sqlalchemy.engine.base.Engine SELECT sql FROM  (SELECT * FROM sqlite_master UNION ALL   SELECT * FROM sqlite_temp_master) WHERE name = 'vegetarian' AND type = 'table'\n",
      "2018-03-24 00:07:06,450 INFO sqlalchemy.engine.base.Engine ()\n"
     ]
    }
   ],
   "source": [
    "#Create engine\n",
    "    #Set echo=True for debugging\n",
    "engine = create_engine(\"sqlite:///../sqldata/restaurants.db\",echo=True)\n",
    "#Link inspector to engine\n",
    "inspector = inspect(engine)\n",
    "\n",
    "# Declare a Base using `automap_base()`\n",
    "Base = automap_base()\n",
    "#Override class to establish primary for reflection\n",
    "class SomeClass(Base):\n",
    "    __tablename__ = \"vegetarian\"\n",
    "   # __table_args__ = {'extend_existing': True}\n",
    "    restaurant_name = Column(\"restaurant_name\",String, primary_key=True)\n",
    "#Continue automapping:\n",
    "Base.prepare(engine, reflect=True)\n",
    "\n",
    "\n",
    "# Use the Base class to reflect the database tables\n",
    "#Base.metadata.create_all(engine)\n",
    "\n",
    "\n"
   ]
  },
  {
   "cell_type": "code",
   "execution_count": 3,
   "metadata": {},
   "outputs": [
    {
     "name": "stdout",
     "output_type": "stream",
     "text": [
      "2018-03-24 00:07:06,474 INFO sqlalchemy.engine.base.Engine SELECT name FROM sqlite_master WHERE type='table' ORDER BY name\n",
      "2018-03-24 00:07:06,476 INFO sqlalchemy.engine.base.Engine ()\n"
     ]
    },
    {
     "data": {
      "text/plain": [
       "['vegetarian']"
      ]
     },
     "execution_count": 3,
     "metadata": {},
     "output_type": "execute_result"
    }
   ],
   "source": [
    "inspector.get_table_names()"
   ]
  },
  {
   "cell_type": "code",
   "execution_count": 4,
   "metadata": {},
   "outputs": [
    {
     "name": "stdout",
     "output_type": "stream",
     "text": [
      "2018-03-24 00:07:06,496 INFO sqlalchemy.engine.base.Engine PRAGMA table_info(\"vegetarian\")\n",
      "2018-03-24 00:07:06,498 INFO sqlalchemy.engine.base.Engine ()\n"
     ]
    }
   ],
   "source": [
    "columns = inspector.get_columns('vegetarian')\n"
   ]
  },
  {
   "cell_type": "code",
   "execution_count": 5,
   "metadata": {},
   "outputs": [
    {
     "name": "stdout",
     "output_type": "stream",
     "text": [
      "========================\n",
      "Column names:\n",
      "restaurant_name\n",
      "address\n",
      "city\n",
      "state\n",
      "zip_code\n",
      "phone\n",
      "cuisine_type\n",
      "rating\n",
      "price\n",
      "latitude\n",
      "longitude\n",
      "========================\n"
     ]
    }
   ],
   "source": [
    "print(\"========================\")\n",
    "print(\"Column names:\")\n",
    "for c in columns:\n",
    "    print(c['name'])\n",
    "print(\"========================\")\n"
   ]
  },
  {
   "cell_type": "code",
   "execution_count": 6,
   "metadata": {},
   "outputs": [
    {
     "data": {
      "text/plain": [
       "[]"
      ]
     },
     "execution_count": 6,
     "metadata": {},
     "output_type": "execute_result"
    }
   ],
   "source": [
    "Base.classes.keys()"
   ]
  },
  {
   "cell_type": "code",
   "execution_count": 7,
   "metadata": {
    "collapsed": true
   },
   "outputs": [],
   "source": [
    "#Create session (to pusb objects and query server)\n",
    "session = Session(bind=engine)"
   ]
  },
  {
   "cell_type": "code",
   "execution_count": null,
   "metadata": {
    "collapsed": true
   },
   "outputs": [],
   "source": []
  },
  {
   "cell_type": "code",
   "execution_count": 8,
   "metadata": {
    "collapsed": true
   },
   "outputs": [],
   "source": [
    "#first_row = session.query(CLASSNAMEHERE).first()\n",
    "## Display the row's columns and data in dictionary format\n",
    "#first_row.__dict__\n"
   ]
  },
  {
   "cell_type": "code",
   "execution_count": null,
   "metadata": {
    "collapsed": true
   },
   "outputs": [],
   "source": [
    "\n"
   ]
  },
  {
   "cell_type": "code",
   "execution_count": null,
   "metadata": {
    "collapsed": true
   },
   "outputs": [],
   "source": []
  },
  {
   "cell_type": "code",
   "execution_count": null,
   "metadata": {
    "collapsed": true
   },
   "outputs": [],
   "source": []
  }
 ],
 "metadata": {
  "kernelspec": {
   "display_name": "Python 3",
   "language": "python",
   "name": "python3"
  },
  "language_info": {
   "codemirror_mode": {
    "name": "ipython",
    "version": 3
   },
   "file_extension": ".py",
   "mimetype": "text/x-python",
   "name": "python",
   "nbconvert_exporter": "python",
   "pygments_lexer": "ipython3",
   "version": "3.6.1"
  }
 },
 "nbformat": 4,
 "nbformat_minor": 2
}
