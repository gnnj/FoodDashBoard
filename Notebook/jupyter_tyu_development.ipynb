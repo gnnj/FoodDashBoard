{
 "cells": [
  {
   "cell_type": "code",
   "execution_count": 1,
   "metadata": {
    "collapsed": true
   },
   "outputs": [],
   "source": [
    "#Imports\n",
    "import pandas as pd\n",
    "from datetime import datetime\n",
    "import csv\n",
    "\n",
    "#Sqlalchemy imports\n",
    "from sqlalchemy import Column, Float, Integer, String, DateTime\n",
    "from sqlalchemy.ext.declarative import declarative_base\n",
    "from sqlalchemy.ext.automap import automap_base\n",
    "from sqlalchemy.orm import Session\n",
    "from sqlalchemy import create_engine,inspect,func\n",
    "# Flask imports\n",
    "from flask import Flask, jsonify, render_template"
   ]
  },
  {
   "cell_type": "code",
   "execution_count": 2,
   "metadata": {
    "scrolled": true
   },
   "outputs": [
    {
     "name": "stdout",
     "output_type": "stream",
     "text": [
      "2018-03-24 00:38:46,240 INFO sqlalchemy.engine.base.Engine SELECT CAST('test plain returns' AS VARCHAR(60)) AS anon_1\n",
      "2018-03-24 00:38:46,248 INFO sqlalchemy.engine.base.Engine ()\n",
      "2018-03-24 00:38:46,251 INFO sqlalchemy.engine.base.Engine SELECT CAST('test unicode returns' AS VARCHAR(60)) AS anon_1\n",
      "2018-03-24 00:38:46,254 INFO sqlalchemy.engine.base.Engine ()\n"
     ]
    }
   ],
   "source": [
    "#Create engine\n",
    "    #Set echo=True for debugging\n",
    "engine = create_engine(\"sqlite:///../sqldata/restaurants.db\",echo=True)\n",
    "#Link inspector to engine\n",
    "inspector = inspect(engine)\n",
    "\n",
    "#Not used# Declare a Base using `automap_base()`\n",
    "#Not used# Base = automap_base()\n",
    "#Declarative base ---> columns lack types\n",
    "Base = declarative_base()\n",
    "\n",
    "#Override class to establish primary for reflection\n",
    "class Vegetarian(Base):\n",
    "    __tablename__ = \"vegetarian\"\n",
    "   # __table_args__ = {'extend_existing': True}\n",
    "    restaurant_name = Column(\"restaurant_name\",String, primary_key=True)\n",
    "    address = Column(String)\n",
    "    city = Column(String)\n",
    "    state = Column(String)\n",
    "    zip_code = Column(Integer)\n",
    "    phone = Column(Integer)\n",
    "    cuisine_type = Column(String)\n",
    "    rating = Column(String)\n",
    "    price = Column(String)\n",
    "    latitude = Column(Float)\n",
    "    longitude = Column(Float)\n",
    "#Not used#Continue automapping:\n",
    "#Not used#Base.prepare(engine, reflect=True)\n",
    "\n",
    "# Use the Base class to reflect the database tables\n",
    "#Base.metadata.create_all(engine)\n"
   ]
  },
  {
   "cell_type": "code",
   "execution_count": 3,
   "metadata": {},
   "outputs": [
    {
     "name": "stdout",
     "output_type": "stream",
     "text": [
      "2018-03-24 00:38:46,271 INFO sqlalchemy.engine.base.Engine SELECT name FROM sqlite_master WHERE type='table' ORDER BY name\n",
      "2018-03-24 00:38:46,273 INFO sqlalchemy.engine.base.Engine ()\n"
     ]
    },
    {
     "data": {
      "text/plain": [
       "['vegetarian']"
      ]
     },
     "execution_count": 3,
     "metadata": {},
     "output_type": "execute_result"
    }
   ],
   "source": [
    "#Verify table creation with inspector\n",
    "inspector.get_table_names()"
   ]
  },
  {
   "cell_type": "code",
   "execution_count": 4,
   "metadata": {},
   "outputs": [
    {
     "name": "stdout",
     "output_type": "stream",
     "text": [
      "2018-03-24 00:38:46,293 INFO sqlalchemy.engine.base.Engine PRAGMA table_info(\"vegetarian\")\n",
      "2018-03-24 00:38:46,298 INFO sqlalchemy.engine.base.Engine ()\n"
     ]
    }
   ],
   "source": [
    "columns = inspector.get_columns('vegetarian')"
   ]
  },
  {
   "cell_type": "code",
   "execution_count": 5,
   "metadata": {},
   "outputs": [
    {
     "name": "stdout",
     "output_type": "stream",
     "text": [
      "========================\n",
      "Column names:\n",
      "restaurant_name\n",
      "address\n",
      "city\n",
      "state\n",
      "zip_code\n",
      "phone\n",
      "cuisine_type\n",
      "rating\n",
      "price\n",
      "latitude\n",
      "longitude\n",
      "========================\n",
      "[{'name': 'restaurant_name', 'type': NullType(), 'nullable': True, 'default': None, 'autoincrement': 'auto', 'primary_key': 0}, {'name': 'address', 'type': NullType(), 'nullable': True, 'default': None, 'autoincrement': 'auto', 'primary_key': 0}, {'name': 'city', 'type': NullType(), 'nullable': True, 'default': None, 'autoincrement': 'auto', 'primary_key': 0}, {'name': 'state', 'type': NullType(), 'nullable': True, 'default': None, 'autoincrement': 'auto', 'primary_key': 0}, {'name': 'zip_code', 'type': NullType(), 'nullable': True, 'default': None, 'autoincrement': 'auto', 'primary_key': 0}, {'name': 'phone', 'type': NullType(), 'nullable': True, 'default': None, 'autoincrement': 'auto', 'primary_key': 0}, {'name': 'cuisine_type', 'type': NullType(), 'nullable': True, 'default': None, 'autoincrement': 'auto', 'primary_key': 0}, {'name': 'rating', 'type': NullType(), 'nullable': True, 'default': None, 'autoincrement': 'auto', 'primary_key': 0}, {'name': 'price', 'type': NullType(), 'nullable': True, 'default': None, 'autoincrement': 'auto', 'primary_key': 0}, {'name': 'latitude', 'type': NullType(), 'nullable': True, 'default': None, 'autoincrement': 'auto', 'primary_key': 0}, {'name': 'longitude', 'type': NullType(), 'nullable': True, 'default': None, 'autoincrement': 'auto', 'primary_key': 0}]\n"
     ]
    }
   ],
   "source": [
    "print(\"========================\")\n",
    "print(\"Column names:\")\n",
    "for c in columns:\n",
    "    print(c['name'])\n",
    "print(\"========================\")\n",
    "print (columns)\n"
   ]
  },
  {
   "cell_type": "code",
   "execution_count": 6,
   "metadata": {},
   "outputs": [
    {
     "ename": "AttributeError",
     "evalue": "type object 'Base' has no attribute 'classes'",
     "output_type": "error",
     "traceback": [
      "\u001b[1;31m--------------------------------------------\u001b[0m",
      "\u001b[1;31mAttributeError\u001b[0mTraceback (most recent call last)",
      "\u001b[1;32m<ipython-input-6-aad61049239a>\u001b[0m in \u001b[0;36m<module>\u001b[1;34m()\u001b[0m\n\u001b[1;32m----> 1\u001b[1;33m \u001b[0mBase\u001b[0m\u001b[1;33m.\u001b[0m\u001b[0mclasses\u001b[0m\u001b[1;33m.\u001b[0m\u001b[0mkeys\u001b[0m\u001b[1;33m(\u001b[0m\u001b[1;33m)\u001b[0m\u001b[1;33m\u001b[0m\u001b[0m\n\u001b[0m",
      "\u001b[1;31mAttributeError\u001b[0m: type object 'Base' has no attribute 'classes'"
     ]
    }
   ],
   "source": [
    "Base.classes.keys()"
   ]
  },
  {
   "cell_type": "code",
   "execution_count": 7,
   "metadata": {},
   "outputs": [
    {
     "name": "stdout",
     "output_type": "stream",
     "text": [
      "2018-03-24 00:39:04,777 INFO sqlalchemy.engine.base.Engine PRAGMA table_info(\"vegetarian\")\n",
      "2018-03-24 00:39:04,778 INFO sqlalchemy.engine.base.Engine ()\n"
     ]
    }
   ],
   "source": [
    "Base.metadata.create_all(engine)\n",
    "#Create session (to pusb objects and query server)\n",
    "session = Session(bind=engine)\n",
    "conn = engine.connect()"
   ]
  },
  {
   "cell_type": "code",
   "execution_count": 8,
   "metadata": {},
   "outputs": [],
   "source": [
    "#csv ---> dataframe ---> to_dict(orient='records') --> \n",
    "def populate(engine, table, csvfile):\n",
    "    conn = engine.connect()\n",
    "    df =pd.read_csv(csvfile,encoding='latin-1')\n",
    "    data = df.to_dict(orient='records')\n",
    "    conn.execute(table.insert(), data)"
   ]
  },
  {
   "cell_type": "code",
   "execution_count": 9,
   "metadata": {
    "scrolled": true
   },
   "outputs": [
    {
     "name": "stdout",
     "output_type": "stream",
     "text": [
      "2018-03-24 00:39:06,231 INFO sqlalchemy.engine.base.Engine INSERT INTO vegetarian (restaurant_name, address, city, state, zip_code, phone, cuisine_type, rating, price, latitude, longitude) VALUES (?, ?, ?, ?, ?, ?, ?, ?, ?, ?, ?)\n",
      "2018-03-24 00:39:06,231 INFO sqlalchemy.engine.base.Engine (('Blue Collar', '6730 Biscayne Blvd', 'Miami', 'FL', '33138', 13057560366.0, 'American (Traditional)', 4.0, '$$', 26.07967414, -80.25222212), ('Atlantic No 5', '605 W Main St', 'Louisville', 'KY', '40202', 15028833398.0, 'Breakfast & Brunch', 4.0, '$$', 25.750963, -80.258375), (\"Famous Dave's\", '17770 Southcenter Pkwy', 'Tukwila', 'WA', '98188', 12066312000.0, 'Barbeque', 3.0, '$$', 34.02829213, -81.09327574), ('Quiznos', '1595 N Peach Ave', 'Fresno', 'CA', '93727', 15594548477.0, 'Fast Food', 3.0, '$', 44.939642, -93.13603), ('Hobbit Cafe', '2243 Richmond Ave', 'Houston', 'TX', '77098', 17135265460.0, 'Breakfast & Brunch', 3.5, '$$', 40.11574901, -83.08946112), ('Pizzeria 3301', '3301 W Canal St', 'Milwaukee', 'WI', '53208', 14144550347.0, 'Pizza', 3.5, '$', 29.713354, -95.50425899999999), ('Pita Pit', '141 Township Ave', 'Ridgeland', 'MS', '39157', 16017909925.0, 'Sandwiches', 4.5, '$$', 41.884068400000004, -87.6412297), (\"P.F. Chang's\", '530 N Wabash Ave', 'Chicago', 'IL', '60611', 13128289977.0, 'Chinese', 3.0, '$$', 39.05737, -94.59787)  ... displaying 10 of 13194 total bound parameter sets ...  ('Smoothie King', '2315 Ponce De Leon Blvd', 'Coral Gables', 'FL', '33134', 13052005392.0, 'Juice Bars & Smoothies', 4.0, '$', 38.257374, -85.760051), ('Buca di Beppo Italian Restaurant', '3355 S University Dr', 'Davie', 'FL', '33328', 19545773287.0, 'Italian', 3.0, '$$', 25.83782, -80.184616))\n",
      "2018-03-24 00:39:06,288 INFO sqlalchemy.engine.base.Engine COMMIT\n"
     ]
    }
   ],
   "source": [
    "#run populate function on db\n",
    "populate(engine,Vegetarian.__table__,\"../CleanData/clean_no_index.csv\")"
   ]
  },
  {
   "cell_type": "code",
   "execution_count": null,
   "metadata": {},
   "outputs": [],
   "source": []
  },
  {
   "cell_type": "code",
   "execution_count": null,
   "metadata": {
    "collapsed": true
   },
   "outputs": [],
   "source": []
  },
  {
   "cell_type": "code",
   "execution_count": null,
   "metadata": {},
   "outputs": [],
   "source": []
  },
  {
   "cell_type": "code",
   "execution_count": 10,
   "metadata": {},
   "outputs": [
    {
     "name": "stdout",
     "output_type": "stream",
     "text": [
      "2018-03-24 00:39:07,856 INFO sqlalchemy.engine.base.Engine PRAGMA table_info([vegetarian]);\n",
      "2018-03-24 00:39:07,859 INFO sqlalchemy.engine.base.Engine ()\n",
      "(0, 'restaurant_name', '', 0, None, 0)\n",
      "(1, 'address', '', 0, None, 0)\n",
      "(2, 'city', '', 0, None, 0)\n",
      "(3, 'state', '', 0, None, 0)\n",
      "(4, 'zip_code', '', 0, None, 0)\n",
      "(5, 'phone', '', 0, None, 0)\n",
      "(6, 'cuisine_type', '', 0, None, 0)\n",
      "(7, 'rating', '', 0, None, 0)\n",
      "(8, 'price', '', 0, None, 0)\n",
      "(9, 'latitude', '', 0, None, 0)\n",
      "(10, 'longitude', '', 0, None, 0)\n"
     ]
    }
   ],
   "source": [
    "#verify table information:\n",
    "data = engine.execute(\"PRAGMA table_info([vegetarian]);\")\n",
    "for item in data:\n",
    "    print(item)"
   ]
  },
  {
   "cell_type": "code",
   "execution_count": 11,
   "metadata": {},
   "outputs": [
    {
     "name": "stdout",
     "output_type": "stream",
     "text": [
      "2018-03-24 00:39:08,236 INFO sqlalchemy.engine.base.Engine PRAGMA table_info(\"vegetarian\")\n",
      "2018-03-24 00:39:08,237 INFO sqlalchemy.engine.base.Engine ()\n"
     ]
    }
   ],
   "source": [
    "Base.metadata.create_all(engine)\n",
    "session.commit()"
   ]
  },
  {
   "cell_type": "code",
   "execution_count": null,
   "metadata": {
    "collapsed": true
   },
   "outputs": [],
   "source": [
    "#first_row = session.query(CLASSNAMEHERE).first()\n",
    "## Display the row's columns and data in dictionary format\n",
    "#first_row.__dict__"
   ]
  }
 ],
 "metadata": {
  "kernelspec": {
   "display_name": "Python 3",
   "language": "python",
   "name": "python3"
  },
  "language_info": {
   "codemirror_mode": {
    "name": "ipython",
    "version": 3
   },
   "file_extension": ".py",
   "mimetype": "text/x-python",
   "name": "python",
   "nbconvert_exporter": "python",
   "pygments_lexer": "ipython3",
   "version": "3.6.1"
  }
 },
 "nbformat": 4,
 "nbformat_minor": 2
}
