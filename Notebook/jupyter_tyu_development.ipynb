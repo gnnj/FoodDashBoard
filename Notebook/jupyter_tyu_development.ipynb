{
 "cells": [
  {
   "cell_type": "code",
   "execution_count": null,
   "metadata": {
    "collapsed": true
   },
   "outputs": [],
   "source": [
    "# Flask dependencies\n",
    "from flask import Flask, jsonify, render_template\n",
    "\n",
    "# Flask set up\n",
    "app = Flask(__name__)\n",
    "\n",
    "# Database setup and connection\n",
    "import sqlalchemy\n",
    "from sqlalchemy.ext.automap import automap_base\n",
    "from sqlalchemy.orm import Session\n",
    "from sqlalchemy import create_engine, desc  #what else here???\n",
    "\n",
    "# Import custom functions\n",
    "from bbd import return_sample_names\n",
    "\n",
    "engine = create_engine(\"sqlite:///DataSets/belly_button_biodiversity.sqlite\")\n",
    "\n",
    "Base = automap_base()\n",
    "Base.prepare(engine, reflect=True)\n",
    "\n",
    "Otu = Base.classes.otu\n",
    "Samples = Base.classes.samples\n",
    "Samples_metadata = Base.classes.samples_metadata\n",
    "\n",
    "# Create Session \n",
    "session = Session(engine)"
   ]
  },
  {
   "cell_type": "code",
   "execution_count": null,
   "metadata": {
    "collapsed": true
   },
   "outputs": [],
   "source": [
    "# Create Routes\n",
    "@app.route(\"/\")\n",
    "def home():\n",
    "    return render_template(\"index.html\")\n",
    "\n",
    "@app.route(\"/names\")\n",
    "def names():\n",
    "    sample_names = Samples.__table__.columns\n",
    "    sample_names_ls = [name.key for name in sample_names]\n",
    "    sample_names_ls.remove(\"otu_id\")\n",
    "    return jsonify(sample_names_ls)\n",
    "\n",
    "@app.route(\"/otu\")\n",
    "def otu():\n",
    "    otu_descriptions = session.query(Otu.lowest_taxonomic_unit_found).all()\n",
    "    otu_descriptions_list = [x for (x), in otu_descriptions]\n",
    "    return jsonify(otu_descriptions_list)\n",
    "\n",
    "@app.route(\"/otu_descriptions\")\n",
    "def otu_disc():\n",
    "    otu_descriptions = session.query(Otu.otu_id, Otu.lowest_taxonomic_unit_found).all()\n",
    "    otu_dict = {}\n",
    "    for row in otu_descriptions:\n",
    "        otu_dict[row[0]] = row[1]\n",
    "    return jsonify(otu_dict)\n",
    "\n",
    "@app.route(\"/metadata/<sample>\")\n",
    "def sample_query(sample):\n",
    "    sample_name = sample.replace(\"BB_\", \"\")\n",
    "    result = session.query(Samples_metadata.AGE, Samples_metadata.BBTYPE, Samples_metadata.ETHNICITY, Samples_metadata.GENDER, Samples_metadata.LOCATION, Samples_metadata.SAMPLEID).filter_by(SAMPLEID = sample_name).all()\n",
    "    record = result[0]\n",
    "    record_dict = {\n",
    "        \"AGE\": record[0],\n",
    "        \"BBTYPE\": record[1],\n",
    "        \"ETHNICITY\": record[2],\n",
    "        \"GENDER\": record[3],\n",
    "        \"LOCATION\": record[4],\n",
    "        \"SAMPLEID\": record[5]\n",
    "    }\n",
    "    return jsonify(record_dict)\n",
    "\n",
    "@app.route('/wfreq/<sample>')\n",
    "def wash_freq(sample):\n",
    "    sample_name = sample.replace(\"BB_\", \"\")\n",
    "    result = session.query(Samples_metadata.WFREQ).filter_by(SAMPLEID = sample_name).all()\n",
    "    wash_freq = result[0][0]\n",
    "    return jsonify(wash_freq)\n",
    "\n",
    "@app.route('/samples/<sample>')\n",
    "def otu_data(sample):\n",
    "    sample_query = \"Samples.\" + sample\n",
    "    result = session.query(Samples.otu_id, sample_query).order_by(desc(sample_query)).all()\n",
    "    otu_ids = [result[x][0] for x in range(len(result))]   \n",
    "    sample_values = [result[x][1] for x in range(len(result))]\n",
    "    dict_list = [{\"otu_ids\": otu_ids}, {\"sample_values\": sample_values}]\n",
    "    return jsonify(dict_list)\n",
    "\n",
    "if __name__ == '__main__':\n",
    "    app.run(debug=True)"
   ]
  },
  {
   "cell_type": "code",
   "execution_count": null,
   "metadata": {
    "collapsed": true
   },
   "outputs": [],
   "source": []
  }
 ],
 "metadata": {
  "kernelspec": {
   "display_name": "Python 3",
   "language": "python",
   "name": "python3"
  },
  "language_info": {
   "codemirror_mode": {
    "name": "ipython",
    "version": 3
   },
   "file_extension": ".py",
   "mimetype": "text/x-python",
   "name": "python",
   "nbconvert_exporter": "python",
   "pygments_lexer": "ipython3",
   "version": "3.6.1"
  }
 },
 "nbformat": 4,
 "nbformat_minor": 2
}
